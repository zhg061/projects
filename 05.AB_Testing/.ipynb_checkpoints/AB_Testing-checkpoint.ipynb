{
 "cells": [
  {
   "cell_type": "markdown",
   "metadata": {},
   "source": [
    "# A/B Testing\n",
    "\n",
    "Goal: Get a feel for A/B-testing using Permutation Tests.\n",
    "\n",
    "One of the most common usages for A/B testing is for understanding the impact of changes to websites (e.g. website design changes, serving of different advertisements). For example, the website owner makes a small change to the layout of a webpage to a portion of the traffic and compares the user behavior on the old design against the user behavior on the new design. If there's a significant change in wanted behavior, the website owner will make the change on the entire website.\n",
    "\n",
    "Parameters that a website owner needs to consider when executing an A/B test are:\n",
    "* The portion of website traffic that should make up the treatment group (i.e. users who see the changed website).\n",
    "* How long the AB-test should last.\n",
    "* The impact and level of confidence in the result of the test to declare it a \"success\". That is, you should be comfortable that the result of your test bring enough positive change (e.g. increase in revenue) and that it's not due to random flucuations in website traffic."
   ]
  },
  {
   "cell_type": "code",
   "execution_count": 1,
   "metadata": {},
   "outputs": [],
   "source": [
    "% matplotlib inline\n",
    "\n",
    "from datascience import *\n",
    "import numpy as np\n",
    "import matplotlib.pyplot as plt"
   ]
  },
  {
   "cell_type": "markdown",
   "metadata": {},
   "source": [
    "## Aaron's Awesome Amphibian Adoptions runs an AB test\n",
    "\n",
    "Suppose that the massively popular `aaronsawesomeamphibianadoptions.com` helps support its program by selling ads on its website. Aaron, the site owner, is considering making a change to his ad-targeting software in hopes of increasing fly sales at a sponsoring pet store. Every click on an advertisement leads to 2 cents in revenue.\n",
    "\n",
    "Consider the following scenarios for running Aaron's AB test. \n",
    "* Each AB test runs for 7 days, and website visits are recored up to the hour. Hours are recorded by \"number of hours since starting the AB test\" (between 0 and 167).\n",
    "* `PageA` denotes the current webpage (control), whereas `PageB` denotes the webpage with the change (treatment).\n",
    "* The column `clicked` denotes whether an ad was clicked on during the recorded visit (1) or not (0).\n",
    "\n",
    "### Exploring different splitting of treatment and control groups\n",
    "\n",
    "* Each of the files given below are results of the \"same\" hypothetical AB-test with different treatment/control group splits. \n",
    "\n",
    "Answer the following questions for each of the following AB-tests:\n",
    "* How many visitors to the webpage were there during the week of the AB test?\n",
    "* How many were shown `pageA` vs `pageB`?\n",
    "* Plot the number of visits for each page by the hour.\n",
    "* What is the average *click-rate* on the page overall? What about on `pageA`? `pageB`?\n",
    "    - click-rate is the number of ad-clicks per visitor on the page.\n",
    "* Plot the click-rate for each page by the hour.\n",
    "* Which page made more money during the week? How much more? (was the AB-test successful?)\n",
    "* Was the difference in click-rates bewteen the pages significant? \n",
    "    - Run a permutation test and calculate the p-value"
   ]
  },
  {
   "cell_type": "markdown",
   "metadata": {},
   "source": [
    "#### The 50-50 split\n",
    "\n",
    "Read in the file `data/AB_test_50_50.csv` and analyze the results of the AB test which splits website traffic evenly into treatment/control."
   ]
  },
  {
   "cell_type": "code",
   "execution_count": 2,
   "metadata": {},
   "outputs": [
    {
     "ename": "NameError",
     "evalue": "name 'pageA' is not defined",
     "output_type": "error",
     "traceback": [
      "\u001b[0;31m---------------------------------------------------------------------------\u001b[0m",
      "\u001b[0;31mNameError\u001b[0m                                 Traceback (most recent call last)",
      "\u001b[0;32m<ipython-input-2-d96b35fbce82>\u001b[0m in \u001b[0;36m<module>\u001b[0;34m()\u001b[0m\n\u001b[0;32m----> 1\u001b[0;31m \u001b[0mtotal_visits_by_hour_A\u001b[0m \u001b[0;34m=\u001b[0m \u001b[0mpageA\u001b[0m\u001b[0;34m.\u001b[0m\u001b[0mcolumn\u001b[0m\u001b[0;34m(\u001b[0m\u001b[0;34m'pageA'\u001b[0m\u001b[0;34m)\u001b[0m\u001b[0;34m\u001b[0m\u001b[0m\n\u001b[0m\u001b[1;32m      2\u001b[0m \u001b[0mclicked_by_hour_A\u001b[0m \u001b[0;34m=\u001b[0m \u001b[0mads\u001b[0m\u001b[0;34m.\u001b[0m\u001b[0mwhere\u001b[0m\u001b[0;34m(\u001b[0m\u001b[0;34m'page_id'\u001b[0m\u001b[0;34m,\u001b[0m \u001b[0mare\u001b[0m\u001b[0;34m.\u001b[0m\u001b[0mequal_to\u001b[0m\u001b[0;34m(\u001b[0m\u001b[0;34m'pageA'\u001b[0m\u001b[0;34m)\u001b[0m\u001b[0;34m)\u001b[0m\u001b[0;34m.\u001b[0m\u001b[0mgroup\u001b[0m\u001b[0;34m(\u001b[0m\u001b[0;34m'hour'\u001b[0m\u001b[0;34m,\u001b[0m \u001b[0mnp\u001b[0m\u001b[0;34m.\u001b[0m\u001b[0msum\u001b[0m\u001b[0;34m)\u001b[0m\u001b[0;34m.\u001b[0m\u001b[0mcolumn\u001b[0m\u001b[0;34m(\u001b[0m\u001b[0;34m'clicked sum'\u001b[0m\u001b[0;34m)\u001b[0m\u001b[0;34m\u001b[0m\u001b[0m\n\u001b[1;32m      3\u001b[0m \u001b[0mpageA_click_rate\u001b[0m \u001b[0;34m=\u001b[0m \u001b[0mclicked_by_hour_A\u001b[0m\u001b[0;34m/\u001b[0m\u001b[0mtotal_visits_by_hour_A\u001b[0m\u001b[0;34m\u001b[0m\u001b[0m\n\u001b[1;32m      4\u001b[0m \u001b[0mpageA_click_rate\u001b[0m\u001b[0;34m\u001b[0m\u001b[0m\n\u001b[1;32m      5\u001b[0m \u001b[0mtotal_visits_by_hour_B\u001b[0m \u001b[0;34m=\u001b[0m \u001b[0mpageA\u001b[0m\u001b[0;34m.\u001b[0m\u001b[0mcolumn\u001b[0m\u001b[0;34m(\u001b[0m\u001b[0;34m'pageB'\u001b[0m\u001b[0;34m)\u001b[0m\u001b[0;34m\u001b[0m\u001b[0m\n",
      "\u001b[0;31mNameError\u001b[0m: name 'pageA' is not defined"
     ]
    }
   ],
   "source": [
    "total_visits_by_hour_A = pageA.column('pageA')\n",
    "clicked_by_hour_A = ads.where('page_id', are.equal_to('pageA')).group('hour', np.sum).column('clicked sum')\n",
    "pageA_click_rate = clicked_by_hour_A/total_visits_by_hour_A\n",
    "pageA_click_rate\n",
    "total_visits_by_hour_B = pageA.column('pageB')\n",
    "clicked_by_hour_B = ads.where('page_id', are.equal_to('pageB')).group('hour', np.sum).column('clicked sum')\n",
    "pageB_click_rate = clicked_by_hour_B/total_visits_by_hour_B\n",
    "click_rate = Table().with_columns(\n",
    "            'pageA click rate', pageA_click_rate,\n",
    "            'pageB click rate', pageB_click_rate,\n",
    "            )\n"
   ]
  },
  {
   "cell_type": "code",
   "execution_count": null,
   "metadata": {},
   "outputs": [
    {
     "name": "stdout",
     "output_type": "stream",
     "text": [
      "visitors:101424\n",
      "visits of pageA vs visits of pageB: 45868 vs 55556\n",
      "The average click-rate on the overall:0.20525713834989745\n",
      "The average click-rate on the pageA:0.19798116333827506\n",
      "The average click-rate on the pageB:0.21126430988552092\n"
     ]
    }
   ],
   "source": [
    "# Your Code Here\n",
    "ads = Table().read_table(\"data/AB_test_50_50.csv\")\n",
    "number_visitors = str(ads.num_rows)\n",
    "print(\"visitors:\" + number_visitors)\n",
    "\n",
    "number_pageA_visits = str(ads.where('page_id', are.equal_to('pageA')).num_rows)\n",
    "number_pageB_visits = str(ads.where('page_id', are.equal_to('pageB')).num_rows)\n",
    "print(\"visits of pageA vs visits of pageB: \" + number_pageA_visits + \" vs \" + number_pageB_visits)\n",
    "\n",
    "pageA = ads.where('page_id', are.equal_to('pageA')).group('hour').relabeled('count', 'pageA')\n",
    "pageB = ads.where('page_id', are.equal_to('pageB')).group('hour').relabeled('count', 'pageB')\n",
    "combined = pageA.join('hour', pageB)\n",
    "combined_graph = combined.plot('hour')\n",
    "\n",
    "print(\"The average click-rate on the overall:\" + str(ads.where('clicked', are.equal_to(1)).num_rows/ads.num_rows))\n",
    "print(\"The average click-rate on the pageA:\" + str(ads.where('clicked', \n",
    "          are.equal_to(1)).where('page_id', \n",
    "                                are.equal_to('pageA')).num_rows/ads.where('page_id', are.equal_to('pageA')).num_rows))\n",
    "print(\"The average click-rate on the pageB:\" + str(ads.where('clicked', \n",
    "          are.equal_to(1)).where('page_id', \n",
    "                                are.equal_to('pageB')).num_rows/ads.where('page_id', are.equal_to('pageB')).num_rows))"
   ]
  },
  {
   "cell_type": "markdown",
   "metadata": {},
   "source": [
    "#### The 85-15 split\n",
    "\n",
    "Read in the file `data/AB_test_85_15.csv` and analyze the results of the AB test which splits website traffic evenly into treatment/control."
   ]
  },
  {
   "cell_type": "code",
   "execution_count": 12,
   "metadata": {},
   "outputs": [
    {
     "data": {
      "text/plain": [
       "0.20465280314385398"
      ]
     },
     "execution_count": 12,
     "metadata": {},
     "output_type": "execute_result"
    }
   ],
   "source": [
    "second_ads = Table().read_table(\"data/AB_test_85_15.csv\")\n",
    "second_pageA_result = second_ads.where('page_id', are.equal_to('pageA')).num_rows\n",
    "second_pageB_result = second_ads.where('page_id', are.equal_to('pageB')).num_rows\n",
    "second_pageB_result/second_pageA_result"
   ]
  },
  {
   "cell_type": "code",
   "execution_count": null,
   "metadata": {},
   "outputs": [],
   "source": [
    "data/"
   ]
  },
  {
   "cell_type": "code",
   "execution_count": null,
   "metadata": {},
   "outputs": [],
   "source": [
    "# Your Code Here"
   ]
  },
  {
   "cell_type": "markdown",
   "metadata": {},
   "source": [
    "#### The 95-5 split\n",
    "\n",
    "Read in the file `data/AB_test_95_5.csv` and analyze the results of the AB test which splits website traffic evenly into treatment/control."
   ]
  },
  {
   "cell_type": "code",
   "execution_count": 14,
   "metadata": {},
   "outputs": [
    {
     "data": {
      "text/plain": [
       "0.06077596883514603"
      ]
     },
     "execution_count": 14,
     "metadata": {},
     "output_type": "execute_result"
    }
   ],
   "source": [
    "# Your Code Here\n",
    "third_ads = Table().read_table(\"data/AB_test_95_5.csv\")\n",
    "third_pageA_result = third_ads.where('page_id', are.equal_to('pageA')).num_rows\n",
    "third_pageB_result = third_ads.where('page_id', are.equal_to('pageB')).num_rows\n",
    "third_pageB_result/third_pageA_result"
   ]
  },
  {
   "cell_type": "markdown",
   "metadata": {},
   "source": [
    "#### The 99-1 split\n",
    "\n",
    "Read in the file `data/AB_test_99_1.csv` and analyze the results of the AB test which splits website traffic evenly into treatment/control."
   ]
  },
  {
   "cell_type": "code",
   "execution_count": 16,
   "metadata": {},
   "outputs": [
    {
     "data": {
      "text/plain": [
       "0.011006373808269828"
      ]
     },
     "execution_count": 16,
     "metadata": {},
     "output_type": "execute_result"
    }
   ],
   "source": [
    "# Your Code Here\n",
    "fourth_ads = Table().read_table(\"data/AB_test_99_1.csv\")\n",
    "fourth_pageA_result = fourth_ads.where('page_id', are.equal_to('pageA')).num_rows\n",
    "fourth_pageB_result = fourth_ads.where('page_id', are.equal_to('pageB')).num_rows\n",
    "fourth_pageB_result/fourth_pageA_result"
   ]
  },
  {
   "cell_type": "markdown",
   "metadata": {},
   "source": [
    "### Conclusion\n",
    "\n",
    "It's potentially quite costly to show the new webpage to a large number of users, given that the proposed change may be ineffective. One way to mitigate this risk is to shrink the treatment group. However, this decision is a trade-off for noisier results.\n",
    "\n",
    "* How big *does* our sample need to be?\n",
    "\n",
    "$$ n = 16\\sigma^2/\\Delta^2 $$\n",
    "\n",
    "Where: $\\sigma^2$ is the variance of the outcome metric \n",
    "* in case of binary outcome, $\\sigma^2 = p(1-p)$, where $p$ is the probability $X = 1$.\n",
    "*  $\\Delta$ is the sensitivity (amount you want to detect) at 80% power -- i.e. the difference in ($p_1 - p_2$). This parameter is based on how small of a variation you would like to meaningfully detect.\n",
    "\n",
    "* For a nice dashboard calculator: https://www.evanmiller.org/ab-testing/sample-size.html"
   ]
  },
  {
   "cell_type": "code",
   "execution_count": null,
   "metadata": {},
   "outputs": [],
   "source": [
    "# Code here"
   ]
  },
  {
   "cell_type": "markdown",
   "metadata": {},
   "source": [
    "### When to stop an AB-test?\n",
    "\n",
    "Imagine your 1 week long AB test has gone live and you're anxiously watching the results every hour. A natural impulse would be to stop the AB test as soon as you see a positive result -- calling it successful. This is bad! The test period must be fixed ahead of time. To illustrate this, read in data for another AB test here: `data/AB_test_time_series.csv`. \n",
    "\n",
    "* Answer the same questions as above.\n",
    "* Now, for every hour in the AB test, pretend like you ended the AB test exactly then. Compute the significance levels of each of these tests, for each hour between 0 and 167. You should have a sequence of p-values. What do you see? Would've we come to the wrong conclusion by finishing the test early?"
   ]
  },
  {
   "cell_type": "code",
   "execution_count": null,
   "metadata": {},
   "outputs": [],
   "source": [
    "# Your Code Here"
   ]
  },
  {
   "cell_type": "code",
   "execution_count": null,
   "metadata": {},
   "outputs": [],
   "source": [
    "# Your Code Here"
   ]
  },
  {
   "cell_type": "markdown",
   "metadata": {},
   "source": [
    "For more discussion on these issues in AB testing, see: https://www.evanmiller.org/how-not-to-run-an-ab-test.html"
   ]
  }
 ],
 "metadata": {
  "kernelspec": {
   "display_name": "Python 3",
   "language": "python",
   "name": "python3"
  },
  "language_info": {
   "codemirror_mode": {
    "name": "ipython",
    "version": 3
   },
   "file_extension": ".py",
   "mimetype": "text/x-python",
   "name": "python",
   "nbconvert_exporter": "python",
   "pygments_lexer": "ipython3",
   "version": "3.6.1"
  }
 },
 "nbformat": 4,
 "nbformat_minor": 2
}

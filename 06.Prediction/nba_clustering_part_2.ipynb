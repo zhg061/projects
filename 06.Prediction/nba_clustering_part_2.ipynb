{
 "cells": [
  {
   "cell_type": "code",
   "execution_count": 1,
   "metadata": {},
   "outputs": [],
   "source": [
    "%matplotlib inline\n",
    "import seaborn as sns\n",
    "import matplotlib.pyplot as plt\n",
    "\n",
    "import pandas as pd\n",
    "import numpy as np\n",
    "from datascience import *"
   ]
  },
  {
   "cell_type": "code",
   "execution_count": 2,
   "metadata": {},
   "outputs": [],
   "source": [
    "from sklearn.preprocessing import StandardScaler\n",
    "from sklearn.preprocessing import MinMaxScaler\n",
    "from sklearn.cluster import KMeans"
   ]
  },
  {
   "cell_type": "markdown",
   "metadata": {},
   "source": [
    "# K-means and NBA Data, Part II"
   ]
  },
  {
   "cell_type": "markdown",
   "metadata": {},
   "source": [
    "This dataset contains player statistics for the 2016 NBA season. Try k-means clustering on *subsets* of the columns in the dataset. Start with trying to answer the same questions as above. If you'd like, see if you can interpret the clusters when you increase the number of clusters.\n",
    "\n",
    "**Warning**: Don't use scatter_matrix with more than ~5 columns -- it requires a lot of memory to plot."
   ]
  },
  {
   "cell_type": "markdown",
   "metadata": {},
   "source": [
    "The columns of this dataset are:\n",
    "\n",
    "```\n",
    "Rk        Player-id\n",
    "Player    Player Name\n",
    "Pos       Position\n",
    "Age       Player Age\n",
    "Tm        Team\n",
    "G         Number of Games played\n",
    "GS        Number of Games started\n",
    "MP        Minutes played\n",
    "FG        Field Goals\n",
    "FGA       Field Goals Attempted\n",
    "3P        Three-point shots made\n",
    "3PA       Three-point shots attempted\n",
    "2P        Two-point shots made\n",
    "2PA       Two-point shots attempted\n",
    "FT        Free Throws made\n",
    "FTA       Free Throws attempted\n",
    "ORB       Offensive rebounds\n",
    "DRB       Defensive rebounds\n",
    "TRB       Total rebounds\n",
    "AST       Number of assists\n",
    "STL       Number of steals\n",
    "BLK       Number of blocks\n",
    "TOV       Number of turnovers\n",
    "PF        Number of personal fouls\n",
    "PTS       Total number of points\n",
    "```"
   ]
  },
  {
   "cell_type": "code",
   "execution_count": 3,
   "metadata": {},
   "outputs": [
    {
     "data": {
      "text/html": [
       "<table border=\"1\" class=\"dataframe\">\n",
       "    <thead>\n",
       "        <tr>\n",
       "            <th>Rk</th> <th>Player</th> <th>Pos</th> <th>Age</th> <th>Tm</th> <th>G</th> <th>GS</th> <th>MP</th> <th>FG</th> <th>FGA</th> <th>3P</th> <th>3PA</th> <th>2P</th> <th>2PA</th> <th>FT</th> <th>FTA</th> <th>ORB</th> <th>DRB</th> <th>TRB</th> <th>AST</th> <th>STL</th> <th>BLK</th> <th>TOV</th> <th>PF</th> <th>PTS</th>\n",
       "        </tr>\n",
       "    </thead>\n",
       "    <tbody>\n",
       "        <tr>\n",
       "            <td>1   </td> <td>Quincy Acy       </td> <td>PF  </td> <td>25  </td> <td>SAC </td> <td>59  </td> <td>29  </td> <td>876 </td> <td>119 </td> <td>214 </td> <td>19  </td> <td>49  </td> <td>100 </td> <td>165 </td> <td>50  </td> <td>68  </td> <td>65  </td> <td>123 </td> <td>188 </td> <td>27  </td> <td>29  </td> <td>24  </td> <td>27  </td> <td>103 </td> <td>307 </td>\n",
       "        </tr>\n",
       "    </tbody>\n",
       "        <tr>\n",
       "            <td>2   </td> <td>Jordan Adams     </td> <td>SG  </td> <td>21  </td> <td>MEM </td> <td>2   </td> <td>0   </td> <td>15  </td> <td>2   </td> <td>6   </td> <td>0   </td> <td>1   </td> <td>2   </td> <td>5   </td> <td>3   </td> <td>5   </td> <td>0   </td> <td>2   </td> <td>2   </td> <td>3   </td> <td>3   </td> <td>0   </td> <td>2   </td> <td>2   </td> <td>7   </td>\n",
       "        </tr>\n",
       "    </tbody>\n",
       "        <tr>\n",
       "            <td>3   </td> <td>Steven Adams     </td> <td>C   </td> <td>22  </td> <td>OKC </td> <td>80  </td> <td>80  </td> <td>2014</td> <td>261 </td> <td>426 </td> <td>0   </td> <td>0   </td> <td>261 </td> <td>426 </td> <td>114 </td> <td>196 </td> <td>219 </td> <td>314 </td> <td>533 </td> <td>62  </td> <td>42  </td> <td>89  </td> <td>84  </td> <td>223 </td> <td>636 </td>\n",
       "        </tr>\n",
       "    </tbody>\n",
       "        <tr>\n",
       "            <td>4   </td> <td>Arron Afflalo    </td> <td>SG  </td> <td>30  </td> <td>NYK </td> <td>71  </td> <td>57  </td> <td>2371</td> <td>354 </td> <td>799 </td> <td>91  </td> <td>238 </td> <td>263 </td> <td>561 </td> <td>110 </td> <td>131 </td> <td>23  </td> <td>243 </td> <td>266 </td> <td>144 </td> <td>25  </td> <td>10  </td> <td>82  </td> <td>142 </td> <td>909 </td>\n",
       "        </tr>\n",
       "    </tbody>\n",
       "        <tr>\n",
       "            <td>5   </td> <td>Alexis Ajinca    </td> <td>C   </td> <td>27  </td> <td>NOP </td> <td>59  </td> <td>17  </td> <td>861 </td> <td>150 </td> <td>315 </td> <td>0   </td> <td>1   </td> <td>150 </td> <td>314 </td> <td>52  </td> <td>62  </td> <td>75  </td> <td>194 </td> <td>269 </td> <td>31  </td> <td>19  </td> <td>36  </td> <td>54  </td> <td>134 </td> <td>352 </td>\n",
       "        </tr>\n",
       "    </tbody>\n",
       "        <tr>\n",
       "            <td>6   </td> <td>Cole Aldrich     </td> <td>C   </td> <td>27  </td> <td>LAC </td> <td>60  </td> <td>5   </td> <td>800 </td> <td>134 </td> <td>225 </td> <td>0   </td> <td>0   </td> <td>134 </td> <td>225 </td> <td>60  </td> <td>84  </td> <td>86  </td> <td>202 </td> <td>288 </td> <td>50  </td> <td>47  </td> <td>68  </td> <td>64  </td> <td>139 </td> <td>328 </td>\n",
       "        </tr>\n",
       "    </tbody>\n",
       "        <tr>\n",
       "            <td>7   </td> <td>LaMarcus Aldridge</td> <td>PF  </td> <td>30  </td> <td>SAS </td> <td>74  </td> <td>74  </td> <td>2261</td> <td>536 </td> <td>1045</td> <td>0   </td> <td>16  </td> <td>536 </td> <td>1029</td> <td>259 </td> <td>302 </td> <td>176 </td> <td>456 </td> <td>632 </td> <td>110 </td> <td>38  </td> <td>81  </td> <td>99  </td> <td>151 </td> <td>1331</td>\n",
       "        </tr>\n",
       "    </tbody>\n",
       "        <tr>\n",
       "            <td>8   </td> <td>Cliff Alexander  </td> <td>PF  </td> <td>20  </td> <td>POR </td> <td>8   </td> <td>0   </td> <td>36  </td> <td>5   </td> <td>10  </td> <td>0   </td> <td>0   </td> <td>5   </td> <td>10  </td> <td>0   </td> <td>0   </td> <td>2   </td> <td>4   </td> <td>6   </td> <td>0   </td> <td>1   </td> <td>2   </td> <td>1   </td> <td>1   </td> <td>10  </td>\n",
       "        </tr>\n",
       "    </tbody>\n",
       "        <tr>\n",
       "            <td>9   </td> <td>Lavoy Allen      </td> <td>PF  </td> <td>26  </td> <td>IND </td> <td>79  </td> <td>28  </td> <td>1599</td> <td>191 </td> <td>370 </td> <td>0   </td> <td>0   </td> <td>191 </td> <td>370 </td> <td>46  </td> <td>73  </td> <td>162 </td> <td>262 </td> <td>424 </td> <td>76  </td> <td>26  </td> <td>42  </td> <td>69  </td> <td>147 </td> <td>428 </td>\n",
       "        </tr>\n",
       "    </tbody>\n",
       "        <tr>\n",
       "            <td>10  </td> <td>Tony Allen       </td> <td>SG  </td> <td>34  </td> <td>MEM </td> <td>64  </td> <td>57  </td> <td>1620</td> <td>215 </td> <td>469 </td> <td>15  </td> <td>42  </td> <td>200 </td> <td>427 </td> <td>90  </td> <td>138 </td> <td>104 </td> <td>192 </td> <td>296 </td> <td>70  </td> <td>110 </td> <td>18  </td> <td>78  </td> <td>175 </td> <td>535 </td>\n",
       "        </tr>\n",
       "    </tbody>\n",
       "</table>\n",
       "<p>... (568 rows omitted)</p>"
      ],
      "text/plain": [
       "Rk   | Player            | Pos  | Age  | Tm   | G    | GS   | MP   | FG   | FGA  | 3P   | 3PA  | 2P   | 2PA  | FT   | FTA  | ORB  | DRB  | TRB  | AST  | STL  | BLK  | TOV  | PF   | PTS\n",
       "1    | Quincy Acy        | PF   | 25   | SAC  | 59   | 29   | 876  | 119  | 214  | 19   | 49   | 100  | 165  | 50   | 68   | 65   | 123  | 188  | 27   | 29   | 24   | 27   | 103  | 307\n",
       "2    | Jordan Adams      | SG   | 21   | MEM  | 2    | 0    | 15   | 2    | 6    | 0    | 1    | 2    | 5    | 3    | 5    | 0    | 2    | 2    | 3    | 3    | 0    | 2    | 2    | 7\n",
       "3    | Steven Adams      | C    | 22   | OKC  | 80   | 80   | 2014 | 261  | 426  | 0    | 0    | 261  | 426  | 114  | 196  | 219  | 314  | 533  | 62   | 42   | 89   | 84   | 223  | 636\n",
       "4    | Arron Afflalo     | SG   | 30   | NYK  | 71   | 57   | 2371 | 354  | 799  | 91   | 238  | 263  | 561  | 110  | 131  | 23   | 243  | 266  | 144  | 25   | 10   | 82   | 142  | 909\n",
       "5    | Alexis Ajinca     | C    | 27   | NOP  | 59   | 17   | 861  | 150  | 315  | 0    | 1    | 150  | 314  | 52   | 62   | 75   | 194  | 269  | 31   | 19   | 36   | 54   | 134  | 352\n",
       "6    | Cole Aldrich      | C    | 27   | LAC  | 60   | 5    | 800  | 134  | 225  | 0    | 0    | 134  | 225  | 60   | 84   | 86   | 202  | 288  | 50   | 47   | 68   | 64   | 139  | 328\n",
       "7    | LaMarcus Aldridge | PF   | 30   | SAS  | 74   | 74   | 2261 | 536  | 1045 | 0    | 16   | 536  | 1029 | 259  | 302  | 176  | 456  | 632  | 110  | 38   | 81   | 99   | 151  | 1331\n",
       "8    | Cliff Alexander   | PF   | 20   | POR  | 8    | 0    | 36   | 5    | 10   | 0    | 0    | 5    | 10   | 0    | 0    | 2    | 4    | 6    | 0    | 1    | 2    | 1    | 1    | 10\n",
       "9    | Lavoy Allen       | PF   | 26   | IND  | 79   | 28   | 1599 | 191  | 370  | 0    | 0    | 191  | 370  | 46   | 73   | 162  | 262  | 424  | 76   | 26   | 42   | 69   | 147  | 428\n",
       "10   | Tony Allen        | SG   | 34   | MEM  | 64   | 57   | 1620 | 215  | 469  | 15   | 42   | 200  | 427  | 90   | 138  | 104  | 192  | 296  | 70   | 110  | 18   | 78   | 175  | 535\n",
       "... (568 rows omitted)"
      ]
     },
     "execution_count": 3,
     "metadata": {},
     "output_type": "execute_result"
    }
   ],
   "source": [
    "nba = Table.read_table('data/nba2016.csv')\n",
    "nba"
   ]
  },
  {
   "cell_type": "markdown",
   "metadata": {},
   "source": [
    "## Naive clustering\n",
    "\n",
    "Try clustering without any scaling.\n",
    "\n",
    "### A data-driven approach to answering \"how many clusters are there?\"\n",
    "* Try kmeans clustering with 1,2,3,...,10 clusters.\n",
    "* For each clustering attempt, measure how well it's clustered.\n",
    "* Use the smallest number of clusters that give the most clustering accuracy."
   ]
  },
  {
   "cell_type": "code",
   "execution_count": 4,
   "metadata": {},
   "outputs": [],
   "source": [
    "def cluster_scores(data_arr):\n",
    "    '''\n",
    "    input a numpy nd.array of data\n",
    "    returns cluster quality scores of using 1,2,..,9 clusters\n",
    "    '''\n",
    "    scores = []\n",
    "    for i in np.arange(1, 10):\n",
    "        score = KMeans(n_clusters=i).fit(data_arr).score(data_arr)\n",
    "        scores.append(score)\n",
    "    return scores"
   ]
  },
  {
   "cell_type": "code",
   "execution_count": 17,
   "metadata": {},
   "outputs": [
    {
     "data": {
      "text/plain": [
       "[-740843067.3615916,\n",
       " -231436138.0075665,\n",
       " -134417155.9252696,\n",
       " -96387842.33663236,\n",
       " -77934210.06976345,\n",
       " -66275860.17310701,\n",
       " -59558754.57852961,\n",
       " -54334751.977432474,\n",
       " -50446597.601475894]"
      ]
     },
     "execution_count": 17,
     "metadata": {},
     "output_type": "execute_result"
    }
   ],
   "source": [
    "clustering_features = nba.drop('Rk', 'Player', 'Pos', 'Tm')\n",
    "\n",
    "scores = cluster_scores(clustering_features.values)\n",
    "scores\n"
   ]
  },
  {
   "cell_type": "markdown",
   "metadata": {},
   "source": [
    "### Plot the quality of the different clustering attempts\n",
    "* Look for the \"elbow\" in the plot, when increaseing the number of clusters no longer gives you better clusters."
   ]
  },
  {
   "cell_type": "code",
   "execution_count": 18,
   "metadata": {},
   "outputs": [
    {
     "data": {
      "image/png": "[encoded data removed]",
      "text/plain": [
       "<matplotlib.figure.Figure at 0x7f145d5f1080>"
      ]
     },
     "metadata": {
      "needs_background": "light"
     },
     "output_type": "display_data"
    }
   ],
   "source": [
    "plt.plot(np.arange(1, 10), scores);"
   ]
  },
  {
   "cell_type": "markdown",
   "metadata": {},
   "source": [
    "First, let's try using 2 clusters:"
   ]
  },
  {
   "cell_type": "code",
   "execution_count": 25,
   "metadata": {},
   "outputs": [
    {
     "data": {
      "text/plain": [
       "578"
      ]
     },
     "execution_count": 25,
     "metadata": {},
     "output_type": "execute_result"
    }
   ],
   "source": [
    "# the attribute .values accesses the underlying numpy\n",
    "# array of a Table, which sklearn requires.\n",
    "train = nba.drop('Rk', 'Player', 'Pos', 'Tm').values\n",
    "\n",
    "kmeans2 = KMeans(n_clusters=2)\n",
    "labels2 = kmeans2.fit_predict(train)\n",
    "out2 = nba.with_column('label', labels2) # add labels to our input table"
   ]
  },
  {
   "cell_type": "markdown",
   "metadata": {},
   "source": [
    "What do the clusters look like?\n",
    "* Group by label and look at the sizes of the clusters\n",
    "* Group by label and look at the average values of the clusters"
   ]
  },
  {
   "cell_type": "code",
   "execution_count": 26,
   "metadata": {},
   "outputs": [
    {
     "data": {
      "text/html": [
       "<table border=\"1\" class=\"dataframe\">\n",
       "    <thead>\n",
       "        <tr>\n",
       "            <th>label</th> <th>count</th>\n",
       "        </tr>\n",
       "    </thead>\n",
       "    <tbody>\n",
       "        <tr>\n",
       "            <td>0    </td> <td>356  </td>\n",
       "        </tr>\n",
       "    </tbody>\n",
       "        <tr>\n",
       "            <td>1    </td> <td>222  </td>\n",
       "        </tr>\n",
       "    </tbody>\n",
       "</table>"
      ],
      "text/plain": [
       "label | count\n",
       "0     | 356\n",
       "1     | 222"
      ]
     },
     "execution_count": 26,
     "metadata": {},
     "output_type": "execute_result"
    }
   ],
   "source": [
    "out2.group('label')"
   ]
  },
  {
   "cell_type": "code",
   "execution_count": 27,
   "metadata": {},
   "outputs": [
    {
     "data": {
      "text/html": [
       "<table border=\"1\" class=\"dataframe\">\n",
       "    <thead>\n",
       "        <tr>\n",
       "            <th>label</th> <th>Rk mean</th> <th>Player mean</th> <th>Pos mean</th> <th>Age mean</th> <th>Tm mean</th> <th>G mean</th> <th>GS mean</th> <th>MP mean</th> <th>FG mean</th> <th>FGA mean</th> <th>3P mean</th> <th>3PA mean</th> <th>2P mean</th> <th>2PA mean</th> <th>FT mean</th> <th>FTA mean</th> <th>ORB mean</th> <th>DRB mean</th> <th>TRB mean</th> <th>AST mean</th> <th>STL mean</th> <th>BLK mean</th> <th>TOV mean</th> <th>PF mean</th> <th>PTS mean</th>\n",
       "        </tr>\n",
       "    </thead>\n",
       "    <tbody>\n",
       "        <tr>\n",
       "            <td>0    </td> <td>248.52 </td> <td>           </td> <td>        </td> <td>27.0983 </td> <td>       </td> <td>34.2584</td> <td>6.24157</td> <td>522.146</td> <td>69.9073</td> <td>160.809 </td> <td>16.5618</td> <td>49.1545 </td> <td>53.3455</td> <td>111.654 </td> <td>29.5871</td> <td>40.3848 </td> <td>21.5056 </td> <td>67.4972 </td> <td>89.0028 </td> <td>43.6067 </td> <td>16.0674 </td> <td>10.0169 </td> <td>27.8989 </td> <td>50.7388</td> <td>185.963 </td>\n",
       "        </tr>\n",
       "    </tbody>\n",
       "        <tr>\n",
       "            <td>1    </td> <td>229.923</td> <td>           </td> <td>        </td> <td>26.3829 </td> <td>       </td> <td>73.0631</td> <td>48.7973</td> <td>2039.17</td> <td>339.279</td> <td>744.306 </td> <td>74.9054</td> <td>208.964 </td> <td>264.374</td> <td>535.342 </td> <td>160.658</td> <td>210.234 </td> <td>87.3919 </td> <td>284.324 </td> <td>371.716 </td> <td>196.64  </td> <td>67.2568 </td> <td>41.5631 </td> <td>119.351 </td> <td>159.923</td> <td>914.122 </td>\n",
       "        </tr>\n",
       "    </tbody>\n",
       "</table>"
      ],
      "text/plain": [
       "label | Rk mean | Player mean | Pos mean | Age mean | Tm mean | G mean  | GS mean | MP mean | FG mean | FGA mean | 3P mean | 3PA mean | 2P mean | 2PA mean | FT mean | FTA mean | ORB mean | DRB mean | TRB mean | AST mean | STL mean | BLK mean | TOV mean | PF mean | PTS mean\n",
       "0     | 248.52  |             |          | 27.0983  |         | 34.2584 | 6.24157 | 522.146 | 69.9073 | 160.809  | 16.5618 | 49.1545  | 53.3455 | 111.654  | 29.5871 | 40.3848  | 21.5056  | 67.4972  | 89.0028  | 43.6067  | 16.0674  | 10.0169  | 27.8989  | 50.7388 | 185.963\n",
       "1     | 229.923 |             |          | 26.3829  |         | 73.0631 | 48.7973 | 2039.17 | 339.279 | 744.306  | 74.9054 | 208.964  | 264.374 | 535.342  | 160.658 | 210.234  | 87.3919  | 284.324  | 371.716  | 196.64   | 67.2568  | 41.5631  | 119.351  | 159.923 | 914.122"
      ]
     },
     "execution_count": 27,
     "metadata": {},
     "output_type": "execute_result"
    }
   ],
   "source": [
    "out2.group('label', np.mean)"
   ]
  },
  {
   "cell_type": "markdown",
   "metadata": {},
   "source": [
    "The main differentiators seem to come from minutes played:\n",
    "* Most other statistics are correlated with minutes played! So MP explains the clusters well by itself!"
   ]
  },
  {
   "cell_type": "code",
   "execution_count": 28,
   "metadata": {},
   "outputs": [
    {
     "data": {
      "image/png": "[encoded data removed]",
      "text/plain": [
       "<matplotlib.figure.Figure at 0x7f145d510358>"
      ]
     },
     "metadata": {
      "needs_background": "light"
     },
     "output_type": "display_data"
    }
   ],
   "source": [
    "out2.hist('MP', group='label', unit='min')"
   ]
  },
  {
   "cell_type": "markdown",
   "metadata": {},
   "source": [
    "Now, let's try 3 clusters!"
   ]
  },
  {
   "cell_type": "code",
   "execution_count": 29,
   "metadata": {},
   "outputs": [],
   "source": [
    "train = nba.drop('Rk', 'Player', 'Pos', 'Tm').values\n",
    "\n",
    "kmeans3 = KMeans(n_clusters=3)\n",
    "labels3 = kmeans3.fit_predict(train)\n",
    "out3 = nba.with_column('label', labels3) # add labels to our input table"
   ]
  },
  {
   "cell_type": "markdown",
   "metadata": {},
   "source": [
    "What do the clusters represent?"
   ]
  },
  {
   "cell_type": "code",
   "execution_count": 30,
   "metadata": {},
   "outputs": [
    {
     "data": {
      "text/html": [
       "<table border=\"1\" class=\"dataframe\">\n",
       "    <thead>\n",
       "        <tr>\n",
       "            <th>label</th> <th>count</th>\n",
       "        </tr>\n",
       "    </thead>\n",
       "    <tbody>\n",
       "        <tr>\n",
       "            <td>0    </td> <td>178  </td>\n",
       "        </tr>\n",
       "    </tbody>\n",
       "        <tr>\n",
       "            <td>1    </td> <td>286  </td>\n",
       "        </tr>\n",
       "    </tbody>\n",
       "        <tr>\n",
       "            <td>2    </td> <td>114  </td>\n",
       "        </tr>\n",
       "    </tbody>\n",
       "</table>"
      ],
      "text/plain": [
       "label | count\n",
       "0     | 178\n",
       "1     | 286\n",
       "2     | 114"
      ]
     },
     "execution_count": 30,
     "metadata": {},
     "output_type": "execute_result"
    }
   ],
   "source": [
    "out3.group('label')"
   ]
  },
  {
   "cell_type": "code",
   "execution_count": 31,
   "metadata": {},
   "outputs": [
    {
     "data": {
      "text/html": [
       "<table border=\"1\" class=\"dataframe\">\n",
       "    <thead>\n",
       "        <tr>\n",
       "            <th>label</th> <th>Rk mean</th> <th>Player mean</th> <th>Pos mean</th> <th>Age mean</th> <th>Tm mean</th> <th>G mean</th> <th>GS mean</th> <th>MP mean</th> <th>FG mean</th> <th>FGA mean</th> <th>3P mean</th> <th>3PA mean</th> <th>2P mean</th> <th>2PA mean</th> <th>FT mean</th> <th>FTA mean</th> <th>ORB mean</th> <th>DRB mean</th> <th>TRB mean</th> <th>AST mean</th> <th>STL mean</th> <th>BLK mean</th> <th>TOV mean</th> <th>PF mean</th> <th>PTS mean</th>\n",
       "        </tr>\n",
       "    </thead>\n",
       "    <tbody>\n",
       "        <tr>\n",
       "            <td>0    </td> <td>232    </td> <td>           </td> <td>        </td> <td>26.8764 </td> <td>       </td> <td>66.8483</td> <td>25.5506</td> <td>1470.57</td> <td>208.079</td> <td>463.556 </td> <td>48.4213</td> <td>138.169 </td> <td>159.657</td> <td>325.388 </td> <td>86.0787</td> <td>117.41  </td> <td>65.7472 </td> <td>198.596 </td> <td>264.343 </td> <td>118.326 </td> <td>45.8989 </td> <td>29.6685 </td> <td>75.6854 </td> <td>133.185</td> <td>550.657 </td>\n",
       "        </tr>\n",
       "    </tbody>\n",
       "        <tr>\n",
       "            <td>1    </td> <td>247.717</td> <td>           </td> <td>        </td> <td>26.8671 </td> <td>       </td> <td>27.6713</td> <td>4.0979 </td> <td>369.497</td> <td>48.3881</td> <td>111.601 </td> <td>11.1958</td> <td>33.7552 </td> <td>37.1923</td> <td>77.8462 </td> <td>20.5804</td> <td>28.7378 </td> <td>16.028  </td> <td>48.1643 </td> <td>64.1923 </td> <td>30.6888 </td> <td>11.1958 </td> <td>7.52448 </td> <td>20.0699 </td> <td>36.6608</td> <td>128.552 </td>\n",
       "        </tr>\n",
       "    </tbody>\n",
       "        <tr>\n",
       "            <td>2    </td> <td>240.114</td> <td>           </td> <td>        </td> <td>26.6316 </td> <td>       </td> <td>75.4649</td> <td>64.3421</td> <td>2378.44</td> <td>432.719</td> <td>947.833 </td> <td>93.8947</td> <td>260.009 </td> <td>338.825</td> <td>687.825 </td> <td>219.219</td> <td>280.096 </td> <td>94.4737 </td> <td>333.544 </td> <td>428.018 </td> <td>257.36  </td> <td>81.3947 </td> <td>47.0175 </td> <td>151.018 </td> <td>169.947</td> <td>1178.55 </td>\n",
       "        </tr>\n",
       "    </tbody>\n",
       "</table>"
      ],
      "text/plain": [
       "label | Rk mean | Player mean | Pos mean | Age mean | Tm mean | G mean  | GS mean | MP mean | FG mean | FGA mean | 3P mean | 3PA mean | 2P mean | 2PA mean | FT mean | FTA mean | ORB mean | DRB mean | TRB mean | AST mean | STL mean | BLK mean | TOV mean | PF mean | PTS mean\n",
       "0     | 232     |             |          | 26.8764  |         | 66.8483 | 25.5506 | 1470.57 | 208.079 | 463.556  | 48.4213 | 138.169  | 159.657 | 325.388  | 86.0787 | 117.41   | 65.7472  | 198.596  | 264.343  | 118.326  | 45.8989  | 29.6685  | 75.6854  | 133.185 | 550.657\n",
       "1     | 247.717 |             |          | 26.8671  |         | 27.6713 | 4.0979  | 369.497 | 48.3881 | 111.601  | 11.1958 | 33.7552  | 37.1923 | 77.8462  | 20.5804 | 28.7378  | 16.028   | 48.1643  | 64.1923  | 30.6888  | 11.1958  | 7.52448  | 20.0699  | 36.6608 | 128.552\n",
       "2     | 240.114 |             |          | 26.6316  |         | 75.4649 | 64.3421 | 2378.44 | 432.719 | 947.833  | 93.8947 | 260.009  | 338.825 | 687.825  | 219.219 | 280.096  | 94.4737  | 333.544  | 428.018  | 257.36   | 81.3947  | 47.0175  | 151.018  | 169.947 | 1178.55"
      ]
     },
     "execution_count": 31,
     "metadata": {},
     "output_type": "execute_result"
    }
   ],
   "source": [
    "out3.group('label', np.mean)"
   ]
  },
  {
   "cell_type": "markdown",
   "metadata": {},
   "source": [
    "The main differentiator still seems to be minutes played (`MP`), which isn't a surprise.\n",
    "* The three groups consist of \"small/medium/large\" number of minutes played.\n",
    "* There's a better description, though. The three clusters can be described as:\n",
    "    - Starters\n",
    "    - Second Unit\n",
    "    - Players with inconsistent playing time"
   ]
  },
  {
   "cell_type": "code",
   "execution_count": 33,
   "metadata": {},
   "outputs": [
    {
     "data": {
      "image/png": "[encoded data removed]",
      "text/plain": [
       "<matplotlib.figure.Figure at 0x7f145d406c50>"
      ]
     },
     "metadata": {
      "needs_background": "light"
     },
     "output_type": "display_data"
    }
   ],
   "source": [
    "out3.hist('MP', group='label', unit='min')"
   ]
  },
  {
   "cell_type": "code",
   "execution_count": 34,
   "metadata": {},
   "outputs": [
    {
     "data": {
      "image/png": "[encoded data removed]",
      "text/plain": [
       "<matplotlib.figure.Figure at 0x7f145d2d7898>"
      ]
     },
     "metadata": {
      "needs_background": "light"
     },
     "output_type": "display_data"
    }
   ],
   "source": [
    "out3.hist('G', group='label')"
   ]
  },
  {
   "cell_type": "code",
   "execution_count": 35,
   "metadata": {},
   "outputs": [
    {
     "data": {
      "image/png": "[encoded data removed]",
      "text/plain": [
       "<matplotlib.figure.Figure at 0x7f145d20c518>"
      ]
     },
     "metadata": {
      "needs_background": "light"
     },
     "output_type": "display_data"
    }
   ],
   "source": [
    "out3.hist('GS', group='label')"
   ]
  },
  {
   "cell_type": "markdown",
   "metadata": {},
   "source": [
    "### Can we try to recover player positions from clusters?"
   ]
  },
  {
   "cell_type": "code",
   "execution_count": 36,
   "metadata": {},
   "outputs": [
    {
     "data": {
      "text/html": [
       "<table border=\"1\" class=\"dataframe\">\n",
       "    <thead>\n",
       "        <tr>\n",
       "            <th>Pos</th> <th>count</th>\n",
       "        </tr>\n",
       "    </thead>\n",
       "    <tbody>\n",
       "        <tr>\n",
       "            <td>PG   </td> <td>129  </td>\n",
       "        </tr>\n",
       "    </tbody>\n",
       "        <tr>\n",
       "            <td>PF   </td> <td>122  </td>\n",
       "        </tr>\n",
       "    </tbody>\n",
       "        <tr>\n",
       "            <td>SG   </td> <td>116  </td>\n",
       "        </tr>\n",
       "    </tbody>\n",
       "        <tr>\n",
       "            <td>SF   </td> <td>105  </td>\n",
       "        </tr>\n",
       "    </tbody>\n",
       "        <tr>\n",
       "            <td>C    </td> <td>104  </td>\n",
       "        </tr>\n",
       "    </tbody>\n",
       "        <tr>\n",
       "            <td>SG-SF</td> <td>1    </td>\n",
       "        </tr>\n",
       "    </tbody>\n",
       "        <tr>\n",
       "            <td>PF-C </td> <td>1    </td>\n",
       "        </tr>\n",
       "    </tbody>\n",
       "</table>"
      ],
      "text/plain": [
       "Pos   | count\n",
       "PG    | 129\n",
       "PF    | 122\n",
       "SG    | 116\n",
       "SF    | 105\n",
       "C     | 104\n",
       "SG-SF | 1\n",
       "PF-C  | 1"
      ]
     },
     "execution_count": 36,
     "metadata": {},
     "output_type": "execute_result"
    }
   ],
   "source": [
    "nba.group('Pos').sort('count', descending=True)"
   ]
  },
  {
   "cell_type": "markdown",
   "metadata": {},
   "source": [
    "### Strategy for clustering players into positions played:\n",
    "* Make the dataset reflect the differences in how positions play\n",
    "\n",
    "To Start:\n",
    "* De-correlate player statistics from minutes played.\n",
    "* Drop `G`, `GS`, and `MP` -- since these don't have to do with your position!\n",
    "* Also try: scale the dataset appropriately (`StandardScaler`?)."
   ]
  },
  {
   "cell_type": "code",
   "execution_count": 43,
   "metadata": {},
   "outputs": [
    {
     "data": {
      "text/plain": [
       "array([ 307,    7,  636,  909,  352,  328, 1331,   10,  428,  535,  839,\n",
       "         52,  105,   13,   92,   65,  179,  208,  350, 1124, 1350,    6,\n",
       "       1573,   18,    6, 1025,  527,  269,  467,  142,  325,   30,  327,\n",
       "         34,  433,  808,  304,  774,  758, 1178,  473, 1046,  541,  514,\n",
       "        872,  958,  255,  696,   28,  700,  454,  308,  133,   61,  254,\n",
       "        632,  887,  375,   76, 1048,  463, 1010, 1155,   70,  590,  491,\n",
       "        115,   20,  363, 1161,  271,  216,   55,  122,  679,  412,   63,\n",
       "       1399,  124,    3,  544, 1105,  846,  542,  286,  395,  623,  813,\n",
       "        463,  628,   33,  595,  472,    4,  236,    6, 1225,  477, 1035,\n",
       "        123,  857,   36,   50,    8,    4,    4, 1748,  858,  832, 1120,\n",
       "       1038,  484,  120,  104,   16,  299, 2375,  242, 1481,  526,    5,\n",
       "        255,   79,    0,  569,  911, 1830,  485,  827,   58,  531, 1018,\n",
       "       1314,  638,    6,  522,  222, 2029,   31,   63,  586, 1121,  159,\n",
       "          0,   16,  143,  206,   71,  379,  320,  835,  110, 1016,  105,\n",
       "        763, 1213,  474,  323,  151,  261,   51,  210,    9,    2,    7,\n",
       "        425,  229,  196, 1036,  625,  122,  861, 1187, 1204,  325, 1874,\n",
       "        627,  555,  557,   82,  505,  719,  686, 1012,   22,  749,  426,\n",
       "        572, 1131,   13,    0,   13,  616,  578,  939,  646,  293,  749,\n",
       "         22,  410,  286,  124,  125,  104,  326, 2376,  498,   13,  140,\n",
       "        487,  932,    3, 1116,  669,  447,   18,   59,  340,    4, 1578,\n",
       "        624,  397,  478,  481,  206,  137,   69,  525,  894,  645,  246,\n",
       "        152,  137,  132,    5, 1089,  239,   63,  176,  124,    8,  116,\n",
       "        167,  287, 1149, 1249,  976,  237,   14,  343,  180,   29,  134,\n",
       "         97,  983,  457,  767,  589,  178,  342,   36, 1041,  411, 1489,\n",
       "       1920,  562,   22,  410,  178,   69,  109,  332,  157,  175,  340,\n",
       "        577,  205,  287,  992,  671,  321,   26,   16,   10,  593,  314,\n",
       "        549,  796,   13,  178,  434,  156,  980,  677,   44,  606, 1038,\n",
       "         97,   23,  152,   89,  345,   27,  318, 1018,  739,  529,  580,\n",
       "        351,  566,  465, 1150,  373,  309,   64,  761,  511,  250,  427,\n",
       "        214,  213,  703, 1523,  511,  567, 1879,  914,  488,    9, 1501,\n",
       "        842, 1234, 1634,  488,  448,   93,  355,  660,   60,  297,  111,\n",
       "        153,  514,  415,   99,  977,  321,  231,  117,  137,   68,   69,\n",
       "       1666,  493,  112,   89,  764,   26,  172,  531,   99,   37,   62,\n",
       "        150,   22,  125,   21, 1434,  753,  144,   88,   56,   63,  690,\n",
       "         36, 1385,  777,    8, 1210,   14,  443,    8, 1131,  765,  430,\n",
       "        335,  380,  230,  475,  872,  863,   80,  195,  349,  203,  390,\n",
       "        299,  476,  384,  124,  747,   65,   24,   17,    7, 1372,  263,\n",
       "          0,  200,  309,  928, 1153,  687,  236,  650,   67, 1070,  857,\n",
       "        837,   84,  543, 1446,  132,  283,  778,   54,   91,  417,   24,\n",
       "        749,  314,  871,  436, 1028,  399,  273,   77,   55,   22,  331,\n",
       "        145,  221,  919, 1040, 1226,  182,  341,  593,  337,  205,  145,\n",
       "         60,  171,    0,  307,  859, 1080,  720,   72,  766,   75,  305,\n",
       "       1054,   87,  374,  240,  134,  879,  664,  464,  480,  187,  810,\n",
       "        311,  331,   91,  231,  424,  558,   43,  972,  239,  733,  955,\n",
       "        546,  332,  181,  151,   23,  338,  512,  201,  617,  573,  204,\n",
       "        369,   22,    2,   20,    7,    0,    7,  300,  517,  834,   25,\n",
       "       1239,  965,  582,  422, 1823,  484,  758,  147,   60,   87, 1771,\n",
       "        643,  590,  472,  118,  383,   76, 1503,  652,  854,  619,  205,\n",
       "         47,  158,  768,  138,   80,   58,  130,  217,  319,  283, 1181,\n",
       "        296, 1409,  762, 1689, 1531,  515,  142,   31,   29,    2,  107,\n",
       "         90,   17,  554, 1878, 1040,   11, 1675,   70,   29,  918,  746,\n",
       "          8, 1028,  948,  338,  502,  217,   61,  176,   83,  103,   67,\n",
       "         29,  154,  392, 1102,  638,  364])"
      ]
     },
     "execution_count": 43,
     "metadata": {},
     "output_type": "execute_result"
    }
   ],
   "source": [
    "nba.column(label)"
   ]
  },
  {
   "cell_type": "code",
   "execution_count": 40,
   "metadata": {},
   "outputs": [
    {
     "data": {
      "text/html": [
       "<table border=\"1\" class=\"dataframe\">\n",
       "    <thead>\n",
       "        <tr>\n",
       "            <th>FG</th> <th>FGA</th> <th>3P</th> <th>3PA</th> <th>2P</th> <th>2PA</th> <th>FT</th> <th>FTA</th> <th>ORB</th> <th>DRB</th> <th>TRB</th> <th>AST</th> <th>STL</th> <th>BLK</th> <th>TOV</th> <th>PF</th> <th>PTS</th>\n",
       "        </tr>\n",
       "    </thead>\n",
       "    <tbody>\n",
       "        <tr>\n",
       "            <td>119 </td> <td>214 </td> <td>19  </td> <td>49  </td> <td>100 </td> <td>165 </td> <td>50  </td> <td>68  </td> <td>65  </td> <td>123 </td> <td>188 </td> <td>27  </td> <td>29  </td> <td>24  </td> <td>27  </td> <td>103 </td> <td>307 </td>\n",
       "        </tr>\n",
       "    </tbody>\n",
       "        <tr>\n",
       "            <td>2   </td> <td>6   </td> <td>0   </td> <td>1   </td> <td>2   </td> <td>5   </td> <td>3   </td> <td>5   </td> <td>0   </td> <td>2   </td> <td>2   </td> <td>3   </td> <td>3   </td> <td>0   </td> <td>2   </td> <td>2   </td> <td>7   </td>\n",
       "        </tr>\n",
       "    </tbody>\n",
       "        <tr>\n",
       "            <td>261 </td> <td>426 </td> <td>0   </td> <td>0   </td> <td>261 </td> <td>426 </td> <td>114 </td> <td>196 </td> <td>219 </td> <td>314 </td> <td>533 </td> <td>62  </td> <td>42  </td> <td>89  </td> <td>84  </td> <td>223 </td> <td>636 </td>\n",
       "        </tr>\n",
       "    </tbody>\n",
       "        <tr>\n",
       "            <td>354 </td> <td>799 </td> <td>91  </td> <td>238 </td> <td>263 </td> <td>561 </td> <td>110 </td> <td>131 </td> <td>23  </td> <td>243 </td> <td>266 </td> <td>144 </td> <td>25  </td> <td>10  </td> <td>82  </td> <td>142 </td> <td>909 </td>\n",
       "        </tr>\n",
       "    </tbody>\n",
       "        <tr>\n",
       "            <td>150 </td> <td>315 </td> <td>0   </td> <td>1   </td> <td>150 </td> <td>314 </td> <td>52  </td> <td>62  </td> <td>75  </td> <td>194 </td> <td>269 </td> <td>31  </td> <td>19  </td> <td>36  </td> <td>54  </td> <td>134 </td> <td>352 </td>\n",
       "        </tr>\n",
       "    </tbody>\n",
       "        <tr>\n",
       "            <td>134 </td> <td>225 </td> <td>0   </td> <td>0   </td> <td>134 </td> <td>225 </td> <td>60  </td> <td>84  </td> <td>86  </td> <td>202 </td> <td>288 </td> <td>50  </td> <td>47  </td> <td>68  </td> <td>64  </td> <td>139 </td> <td>328 </td>\n",
       "        </tr>\n",
       "    </tbody>\n",
       "        <tr>\n",
       "            <td>536 </td> <td>1045</td> <td>0   </td> <td>16  </td> <td>536 </td> <td>1029</td> <td>259 </td> <td>302 </td> <td>176 </td> <td>456 </td> <td>632 </td> <td>110 </td> <td>38  </td> <td>81  </td> <td>99  </td> <td>151 </td> <td>1331</td>\n",
       "        </tr>\n",
       "    </tbody>\n",
       "        <tr>\n",
       "            <td>5   </td> <td>10  </td> <td>0   </td> <td>0   </td> <td>5   </td> <td>10  </td> <td>0   </td> <td>0   </td> <td>2   </td> <td>4   </td> <td>6   </td> <td>0   </td> <td>1   </td> <td>2   </td> <td>1   </td> <td>1   </td> <td>10  </td>\n",
       "        </tr>\n",
       "    </tbody>\n",
       "        <tr>\n",
       "            <td>191 </td> <td>370 </td> <td>0   </td> <td>0   </td> <td>191 </td> <td>370 </td> <td>46  </td> <td>73  </td> <td>162 </td> <td>262 </td> <td>424 </td> <td>76  </td> <td>26  </td> <td>42  </td> <td>69  </td> <td>147 </td> <td>428 </td>\n",
       "        </tr>\n",
       "    </tbody>\n",
       "        <tr>\n",
       "            <td>215 </td> <td>469 </td> <td>15  </td> <td>42  </td> <td>200 </td> <td>427 </td> <td>90  </td> <td>138 </td> <td>104 </td> <td>192 </td> <td>296 </td> <td>70  </td> <td>110 </td> <td>18  </td> <td>78  </td> <td>175 </td> <td>535 </td>\n",
       "        </tr>\n",
       "    </tbody>\n",
       "</table>\n",
       "<p>... (568 rows omitted)</p>"
      ],
      "text/plain": [
       "FG   | FGA  | 3P   | 3PA  | 2P   | 2PA  | FT   | FTA  | ORB  | DRB  | TRB  | AST  | STL  | BLK  | TOV  | PF   | PTS\n",
       "119  | 214  | 19   | 49   | 100  | 165  | 50   | 68   | 65   | 123  | 188  | 27   | 29   | 24   | 27   | 103  | 307\n",
       "2    | 6    | 0    | 1    | 2    | 5    | 3    | 5    | 0    | 2    | 2    | 3    | 3    | 0    | 2    | 2    | 7\n",
       "261  | 426  | 0    | 0    | 261  | 426  | 114  | 196  | 219  | 314  | 533  | 62   | 42   | 89   | 84   | 223  | 636\n",
       "354  | 799  | 91   | 238  | 263  | 561  | 110  | 131  | 23   | 243  | 266  | 144  | 25   | 10   | 82   | 142  | 909\n",
       "150  | 315  | 0    | 1    | 150  | 314  | 52   | 62   | 75   | 194  | 269  | 31   | 19   | 36   | 54   | 134  | 352\n",
       "134  | 225  | 0    | 0    | 134  | 225  | 60   | 84   | 86   | 202  | 288  | 50   | 47   | 68   | 64   | 139  | 328\n",
       "536  | 1045 | 0    | 16   | 536  | 1029 | 259  | 302  | 176  | 456  | 632  | 110  | 38   | 81   | 99   | 151  | 1331\n",
       "5    | 10   | 0    | 0    | 5    | 10   | 0    | 0    | 2    | 4    | 6    | 0    | 1    | 2    | 1    | 1    | 10\n",
       "191  | 370  | 0    | 0    | 191  | 370  | 46   | 73   | 162  | 262  | 424  | 76   | 26   | 42   | 69   | 147  | 428\n",
       "215  | 469  | 15   | 42   | 200  | 427  | 90   | 138  | 104  | 192  | 296  | 70   | 110  | 18   | 78   | 175  | 535\n",
       "... (568 rows omitted)"
      ]
     },
     "execution_count": 40,
     "metadata": {},
     "output_type": "execute_result"
    }
   ],
   "source": [
    "to_normalize = nba.drop('Rk','Player','Pos','Age','Tm','G','GS','MP')\n",
    "min_played = nba.column('MP')\n",
    "\n",
    "features = to_normalize\n",
    "for label in to_normalize.labels:\n",
    "    features = features.with_column(label, nba.column(label) / min_played)\n",
    "to_normalize"
   ]
  },
  {
   "cell_type": "code",
   "execution_count": 39,
   "metadata": {},
   "outputs": [
    {
     "data": {
      "text/html": [
       "<table border=\"1\" class=\"dataframe\">\n",
       "    <thead>\n",
       "        <tr>\n",
       "            <th>FG</th> <th>FGA</th> <th>3P</th> <th>3PA</th> <th>2P</th> <th>2PA</th> <th>FT</th> <th>FTA</th> <th>ORB</th> <th>DRB</th> <th>TRB</th> <th>AST</th> <th>STL</th> <th>BLK</th> <th>TOV</th> <th>PF</th> <th>PTS</th>\n",
       "        </tr>\n",
       "    </thead>\n",
       "    <tbody>\n",
       "        <tr>\n",
       "            <td>0.135845</td> <td>0.244292</td> <td>0.0216895 </td> <td>0.0559361 </td> <td>0.114155</td> <td>0.188356</td> <td>0.0570776</td> <td>0.0776256</td> <td>0.0742009 </td> <td>0.140411</td> <td>0.214612</td> <td>0.0308219</td> <td>0.033105 </td> <td>0.0273973 </td> <td>0.0308219</td> <td>0.11758  </td> <td>0.350457</td>\n",
       "        </tr>\n",
       "    </tbody>\n",
       "        <tr>\n",
       "            <td>0.133333</td> <td>0.4     </td> <td>0         </td> <td>0.0666667 </td> <td>0.133333</td> <td>0.333333</td> <td>0.2      </td> <td>0.333333 </td> <td>0         </td> <td>0.133333</td> <td>0.133333</td> <td>0.2      </td> <td>0.2      </td> <td>0         </td> <td>0.133333 </td> <td>0.133333 </td> <td>0.466667</td>\n",
       "        </tr>\n",
       "    </tbody>\n",
       "        <tr>\n",
       "            <td>0.129593</td> <td>0.211519</td> <td>0         </td> <td>0         </td> <td>0.129593</td> <td>0.211519</td> <td>0.0566038</td> <td>0.0973188</td> <td>0.108739  </td> <td>0.155909</td> <td>0.264647</td> <td>0.0307845</td> <td>0.020854 </td> <td>0.0441907 </td> <td>0.041708 </td> <td>0.110725 </td> <td>0.315789</td>\n",
       "        </tr>\n",
       "    </tbody>\n",
       "        <tr>\n",
       "            <td>0.149304</td> <td>0.336989</td> <td>0.0383804 </td> <td>0.10038   </td> <td>0.110924</td> <td>0.236609</td> <td>0.0463939</td> <td>0.0552509</td> <td>0.00970055</td> <td>0.102488</td> <td>0.112189</td> <td>0.0607339</td> <td>0.0105441</td> <td>0.00421763</td> <td>0.0345846</td> <td>0.0598903</td> <td>0.383383</td>\n",
       "        </tr>\n",
       "    </tbody>\n",
       "        <tr>\n",
       "            <td>0.174216</td> <td>0.365854</td> <td>0         </td> <td>0.00116144</td> <td>0.174216</td> <td>0.364692</td> <td>0.0603949</td> <td>0.0720093</td> <td>0.087108  </td> <td>0.225319</td> <td>0.312427</td> <td>0.0360046</td> <td>0.0220674</td> <td>0.0418118 </td> <td>0.0627178</td> <td>0.155633 </td> <td>0.408827</td>\n",
       "        </tr>\n",
       "    </tbody>\n",
       "        <tr>\n",
       "            <td>0.1675  </td> <td>0.28125 </td> <td>0         </td> <td>0         </td> <td>0.1675  </td> <td>0.28125 </td> <td>0.075    </td> <td>0.105    </td> <td>0.1075    </td> <td>0.2525  </td> <td>0.36    </td> <td>0.0625   </td> <td>0.05875  </td> <td>0.085     </td> <td>0.08     </td> <td>0.17375  </td> <td>0.41    </td>\n",
       "        </tr>\n",
       "    </tbody>\n",
       "        <tr>\n",
       "            <td>0.237063</td> <td>0.462185</td> <td>0         </td> <td>0.00707651</td> <td>0.237063</td> <td>0.455108</td> <td>0.114551 </td> <td>0.133569 </td> <td>0.0778417 </td> <td>0.201681</td> <td>0.279522</td> <td>0.048651 </td> <td>0.0168067</td> <td>0.0358249 </td> <td>0.0437859</td> <td>0.0667846</td> <td>0.588678</td>\n",
       "        </tr>\n",
       "    </tbody>\n",
       "        <tr>\n",
       "            <td>0.138889</td> <td>0.277778</td> <td>0         </td> <td>0         </td> <td>0.138889</td> <td>0.277778</td> <td>0        </td> <td>0        </td> <td>0.0555556 </td> <td>0.111111</td> <td>0.166667</td> <td>0        </td> <td>0.0277778</td> <td>0.0555556 </td> <td>0.0277778</td> <td>0.0277778</td> <td>0.277778</td>\n",
       "        </tr>\n",
       "    </tbody>\n",
       "        <tr>\n",
       "            <td>0.11945 </td> <td>0.231395</td> <td>0         </td> <td>0         </td> <td>0.11945 </td> <td>0.231395</td> <td>0.028768 </td> <td>0.0456535</td> <td>0.101313  </td> <td>0.163852</td> <td>0.265166</td> <td>0.0475297</td> <td>0.0162602</td> <td>0.0262664 </td> <td>0.043152 </td> <td>0.0919325</td> <td>0.267667</td>\n",
       "        </tr>\n",
       "    </tbody>\n",
       "        <tr>\n",
       "            <td>0.132716</td> <td>0.289506</td> <td>0.00925926</td> <td>0.0259259 </td> <td>0.123457</td> <td>0.26358 </td> <td>0.0555556</td> <td>0.0851852</td> <td>0.0641975 </td> <td>0.118519</td> <td>0.182716</td> <td>0.0432099</td> <td>0.0679012</td> <td>0.0111111 </td> <td>0.0481481</td> <td>0.108025 </td> <td>0.330247</td>\n",
       "        </tr>\n",
       "    </tbody>\n",
       "</table>\n",
       "<p>... (568 rows omitted)</p>"
      ],
      "text/plain": [
       "FG       | FGA      | 3P         | 3PA        | 2P       | 2PA      | FT        | FTA       | ORB        | DRB      | TRB      | AST       | STL       | BLK        | TOV       | PF        | PTS\n",
       "0.135845 | 0.244292 | 0.0216895  | 0.0559361  | 0.114155 | 0.188356 | 0.0570776 | 0.0776256 | 0.0742009  | 0.140411 | 0.214612 | 0.0308219 | 0.033105  | 0.0273973  | 0.0308219 | 0.11758   | 0.350457\n",
       "0.133333 | 0.4      | 0          | 0.0666667  | 0.133333 | 0.333333 | 0.2       | 0.333333  | 0          | 0.133333 | 0.133333 | 0.2       | 0.2       | 0          | 0.133333  | 0.133333  | 0.466667\n",
       "0.129593 | 0.211519 | 0          | 0          | 0.129593 | 0.211519 | 0.0566038 | 0.0973188 | 0.108739   | 0.155909 | 0.264647 | 0.0307845 | 0.020854  | 0.0441907  | 0.041708  | 0.110725  | 0.315789\n",
       "0.149304 | 0.336989 | 0.0383804  | 0.10038    | 0.110924 | 0.236609 | 0.0463939 | 0.0552509 | 0.00970055 | 0.102488 | 0.112189 | 0.0607339 | 0.0105441 | 0.00421763 | 0.0345846 | 0.0598903 | 0.383383\n",
       "0.174216 | 0.365854 | 0          | 0.00116144 | 0.174216 | 0.364692 | 0.0603949 | 0.0720093 | 0.087108   | 0.225319 | 0.312427 | 0.0360046 | 0.0220674 | 0.0418118  | 0.0627178 | 0.155633  | 0.408827\n",
       "0.1675   | 0.28125  | 0          | 0          | 0.1675   | 0.28125  | 0.075     | 0.105     | 0.1075     | 0.2525   | 0.36     | 0.0625    | 0.05875   | 0.085      | 0.08      | 0.17375   | 0.41\n",
       "0.237063 | 0.462185 | 0          | 0.00707651 | 0.237063 | 0.455108 | 0.114551  | 0.133569  | 0.0778417  | 0.201681 | 0.279522 | 0.048651  | 0.0168067 | 0.0358249  | 0.0437859 | 0.0667846 | 0.588678\n",
       "0.138889 | 0.277778 | 0          | 0          | 0.138889 | 0.277778 | 0         | 0         | 0.0555556  | 0.111111 | 0.166667 | 0         | 0.0277778 | 0.0555556  | 0.0277778 | 0.0277778 | 0.277778\n",
       "0.11945  | 0.231395 | 0          | 0          | 0.11945  | 0.231395 | 0.028768  | 0.0456535 | 0.101313   | 0.163852 | 0.265166 | 0.0475297 | 0.0162602 | 0.0262664  | 0.043152  | 0.0919325 | 0.267667\n",
       "0.132716 | 0.289506 | 0.00925926 | 0.0259259  | 0.123457 | 0.26358  | 0.0555556 | 0.0851852 | 0.0641975  | 0.118519 | 0.182716 | 0.0432099 | 0.0679012 | 0.0111111  | 0.0481481 | 0.108025  | 0.330247\n",
       "... (568 rows omitted)"
      ]
     },
     "execution_count": 39,
     "metadata": {},
     "output_type": "execute_result"
    }
   ],
   "source": [
    "features"
   ]
  },
  {
   "cell_type": "code",
   "execution_count": 44,
   "metadata": {},
   "outputs": [
    {
     "data": {
      "image/png": "[encoded data removed]",
      "text/plain": [
       "<matplotlib.figure.Figure at 0x7f145d2d0198>"
      ]
     },
     "metadata": {
      "needs_background": "light"
     },
     "output_type": "display_data"
    }
   ],
   "source": [
    "scores = cluster_scores(features.values)\n",
    "plt.plot(np.arange(1, 10), scores);"
   ]
  },
  {
   "cell_type": "markdown",
   "metadata": {},
   "source": [
    "Let's try 4 clusters:"
   ]
  },
  {
   "cell_type": "code",
   "execution_count": 45,
   "metadata": {},
   "outputs": [],
   "source": [
    "n_clusters = 4\n",
    "\n",
    "train = features.values\n",
    "\n",
    "kmeans = KMeans(n_clusters=n_clusters)\n",
    "labels = kmeans.fit_predict(train)\n",
    "out = nba.with_column('label', labels)"
   ]
  },
  {
   "cell_type": "code",
   "execution_count": 50,
   "metadata": {},
   "outputs": [
    {
     "data": {
      "text/html": [
       "<table border=\"1\" class=\"dataframe\">\n",
       "    <thead>\n",
       "        <tr>\n",
       "            <th>Pos</th> <th>label</th> <th>count</th>\n",
       "        </tr>\n",
       "    </thead>\n",
       "    <tbody>\n",
       "        <tr>\n",
       "            <td>C   </td> <td>0    </td> <td>4    </td>\n",
       "        </tr>\n",
       "    </tbody>\n",
       "        <tr>\n",
       "            <td>C   </td> <td>1    </td> <td>69   </td>\n",
       "        </tr>\n",
       "    </tbody>\n",
       "        <tr>\n",
       "            <td>C   </td> <td>2    </td> <td>14   </td>\n",
       "        </tr>\n",
       "    </tbody>\n",
       "        <tr>\n",
       "            <td>C   </td> <td>3    </td> <td>17   </td>\n",
       "        </tr>\n",
       "    </tbody>\n",
       "        <tr>\n",
       "            <td>PF  </td> <td>0    </td> <td>30   </td>\n",
       "        </tr>\n",
       "    </tbody>\n",
       "        <tr>\n",
       "            <td>PF  </td> <td>1    </td> <td>53   </td>\n",
       "        </tr>\n",
       "    </tbody>\n",
       "        <tr>\n",
       "            <td>PF  </td> <td>2    </td> <td>25   </td>\n",
       "        </tr>\n",
       "    </tbody>\n",
       "        <tr>\n",
       "            <td>PF  </td> <td>3    </td> <td>14   </td>\n",
       "        </tr>\n",
       "    </tbody>\n",
       "        <tr>\n",
       "            <td>PF-C</td> <td>2    </td> <td>1    </td>\n",
       "        </tr>\n",
       "    </tbody>\n",
       "        <tr>\n",
       "            <td>PG  </td> <td>0    </td> <td>59   </td>\n",
       "        </tr>\n",
       "    </tbody>\n",
       "</table>\n",
       "<p>... (12 rows omitted)</p>"
      ],
      "text/plain": [
       "Pos  | label | count\n",
       "C    | 0     | 4\n",
       "C    | 1     | 69\n",
       "C    | 2     | 14\n",
       "C    | 3     | 17\n",
       "PF   | 0     | 30\n",
       "PF   | 1     | 53\n",
       "PF   | 2     | 25\n",
       "PF   | 3     | 14\n",
       "PF-C | 2     | 1\n",
       "PG   | 0     | 59\n",
       "... (12 rows omitted)"
      ]
     },
     "execution_count": 50,
     "metadata": {},
     "output_type": "execute_result"
    }
   ],
   "source": [
    "out.group(['Pos', 'label'])"
   ]
  },
  {
   "cell_type": "code",
   "execution_count": 52,
   "metadata": {},
   "outputs": [
    {
     "data": {
      "text/html": [
       "<table border=\"1\" class=\"dataframe\">\n",
       "    <thead>\n",
       "        <tr>\n",
       "            <th>label</th> <th>C</th> <th>PF</th> <th>PF-C</th> <th>PG</th> <th>SF</th> <th>SG</th> <th>SG-SF</th>\n",
       "        </tr>\n",
       "    </thead>\n",
       "    <tbody>\n",
       "        <tr>\n",
       "            <td>0    </td> <td>4   </td> <td>30  </td> <td>0   </td> <td>59  </td> <td>40  </td> <td>63  </td> <td>0    </td>\n",
       "        </tr>\n",
       "    </tbody>\n",
       "        <tr>\n",
       "            <td>1    </td> <td>69  </td> <td>53  </td> <td>0   </td> <td>1   </td> <td>3   </td> <td>1   </td> <td>0    </td>\n",
       "        </tr>\n",
       "    </tbody>\n",
       "        <tr>\n",
       "            <td>2    </td> <td>14  </td> <td>25  </td> <td>1   </td> <td>49  </td> <td>47  </td> <td>40  </td> <td>1    </td>\n",
       "        </tr>\n",
       "    </tbody>\n",
       "        <tr>\n",
       "            <td>3    </td> <td>17  </td> <td>14  </td> <td>0   </td> <td>20  </td> <td>15  </td> <td>12  </td> <td>0    </td>\n",
       "        </tr>\n",
       "    </tbody>\n",
       "</table>"
      ],
      "text/plain": [
       "<IPython.core.display.HTML object>"
      ]
     },
     "metadata": {},
     "output_type": "display_data"
    }
   ],
   "source": [
    "out.group(['Pos', 'label']).pivot('Pos', 'label', 'count', sum).show()"
   ]
  },
  {
   "cell_type": "code",
   "execution_count": 53,
   "metadata": {},
   "outputs": [
    {
     "data": {
      "text/html": [
       "<table border=\"1\" class=\"dataframe\">\n",
       "    <thead>\n",
       "        <tr>\n",
       "            <th>label</th> <th>count</th>\n",
       "        </tr>\n",
       "    </thead>\n",
       "    <tbody>\n",
       "        <tr>\n",
       "            <td>0    </td> <td>196  </td>\n",
       "        </tr>\n",
       "    </tbody>\n",
       "        <tr>\n",
       "            <td>1    </td> <td>127  </td>\n",
       "        </tr>\n",
       "    </tbody>\n",
       "        <tr>\n",
       "            <td>2    </td> <td>177  </td>\n",
       "        </tr>\n",
       "    </tbody>\n",
       "        <tr>\n",
       "            <td>3    </td> <td>78   </td>\n",
       "        </tr>\n",
       "    </tbody>\n",
       "</table>"
      ],
      "text/plain": [
       "label | count\n",
       "0     | 196\n",
       "1     | 127\n",
       "2     | 177\n",
       "3     | 78"
      ]
     },
     "execution_count": 53,
     "metadata": {},
     "output_type": "execute_result"
    }
   ],
   "source": [
    "out.group('label')"
   ]
  },
  {
   "cell_type": "code",
   "execution_count": 54,
   "metadata": {},
   "outputs": [
    {
     "data": {
      "text/html": [
       "<table border=\"1\" class=\"dataframe\">\n",
       "    <thead>\n",
       "        <tr>\n",
       "            <th>label</th> <th>Rk mean</th> <th>Player mean</th> <th>Pos mean</th> <th>Age mean</th> <th>Tm mean</th> <th>G mean</th> <th>GS mean</th> <th>MP mean</th> <th>FG mean</th> <th>FGA mean</th> <th>3P mean</th> <th>3PA mean</th> <th>2P mean</th> <th>2PA mean</th> <th>FT mean</th> <th>FTA mean</th> <th>ORB mean</th> <th>DRB mean</th> <th>TRB mean</th> <th>AST mean</th> <th>STL mean</th> <th>BLK mean</th> <th>TOV mean</th> <th>PF mean</th> <th>PTS mean</th>\n",
       "        </tr>\n",
       "    </thead>\n",
       "    <tbody>\n",
       "        <tr>\n",
       "            <td>0    </td> <td>235.056</td> <td>           </td> <td>        </td> <td>26.6429 </td> <td>       </td> <td>53.1786</td> <td>23.5561</td> <td>1275.91</td> <td>197.786</td> <td>458.837 </td> <td>60.0612</td> <td>168.056 </td> <td>137.724</td> <td>290.781 </td> <td>84.8265</td> <td>107.852 </td> <td>32.7653 </td> <td>142.5   </td> <td>175.265 </td> <td>123.602 </td> <td>41.5051 </td> <td>14.9745 </td> <td>70.2092 </td> <td>97.7551</td> <td>540.459 </td>\n",
       "        </tr>\n",
       "    </tbody>\n",
       "        <tr>\n",
       "            <td>1    </td> <td>251.74 </td> <td>           </td> <td>        </td> <td>26.6457 </td> <td>       </td> <td>49     </td> <td>21.8661</td> <td>965.315</td> <td>145.433</td> <td>281.709 </td> <td>4.98425</td> <td>16.9606 </td> <td>140.449</td> <td>264.748 </td> <td>68.3543</td> <td>107.307 </td> <td>89.4646 </td> <td>197.843 </td> <td>287.307 </td> <td>55.3465 </td> <td>28.0315 </td> <td>40.5669 </td> <td>52.5354 </td> <td>104.937</td> <td>364.205 </td>\n",
       "        </tr>\n",
       "    </tbody>\n",
       "        <tr>\n",
       "            <td>2    </td> <td>238.271</td> <td>           </td> <td>        </td> <td>27.4689 </td> <td>       </td> <td>41.5706</td> <td>12.6893</td> <td>758.887</td> <td>79.8079</td> <td>191.802 </td> <td>27.9774</td> <td>81.4294 </td> <td>51.8305</td> <td>110.373 </td> <td>27.8475</td> <td>37.5311 </td> <td>21.1582 </td> <td>83.7627 </td> <td>104.921 </td> <td>67.7062 </td> <td>25.4972 </td> <td>10.5932 </td> <td>35.6667 </td> <td>65.7006</td> <td>215.441 </td>\n",
       "        </tr>\n",
       "    </tbody>\n",
       "        <tr>\n",
       "            <td>3    </td> <td>247.436</td> <td>           </td> <td>        </td> <td>26.1026 </td> <td>       </td> <td>56.5641</td> <td>43.7821</td> <td>1686.96</td> <td>369.808</td> <td>805.462 </td> <td>66.2564</td> <td>184.397 </td> <td>303.551</td> <td>621.064 </td> <td>204.654</td> <td>251.782 </td> <td>70.8718 </td> <td>247.013 </td> <td>317.885 </td> <td>204.346 </td> <td>56.9615 </td> <td>36.2949 </td> <td>124.128 </td> <td>121.154</td> <td>1010.53 </td>\n",
       "        </tr>\n",
       "    </tbody>\n",
       "</table>"
      ],
      "text/plain": [
       "label | Rk mean | Player mean | Pos mean | Age mean | Tm mean | G mean  | GS mean | MP mean | FG mean | FGA mean | 3P mean | 3PA mean | 2P mean | 2PA mean | FT mean | FTA mean | ORB mean | DRB mean | TRB mean | AST mean | STL mean | BLK mean | TOV mean | PF mean | PTS mean\n",
       "0     | 235.056 |             |          | 26.6429  |         | 53.1786 | 23.5561 | 1275.91 | 197.786 | 458.837  | 60.0612 | 168.056  | 137.724 | 290.781  | 84.8265 | 107.852  | 32.7653  | 142.5    | 175.265  | 123.602  | 41.5051  | 14.9745  | 70.2092  | 97.7551 | 540.459\n",
       "1     | 251.74  |             |          | 26.6457  |         | 49      | 21.8661 | 965.315 | 145.433 | 281.709  | 4.98425 | 16.9606  | 140.449 | 264.748  | 68.3543 | 107.307  | 89.4646  | 197.843  | 287.307  | 55.3465  | 28.0315  | 40.5669  | 52.5354  | 104.937 | 364.205\n",
       "2     | 238.271 |             |          | 27.4689  |         | 41.5706 | 12.6893 | 758.887 | 79.8079 | 191.802  | 27.9774 | 81.4294  | 51.8305 | 110.373  | 27.8475 | 37.5311  | 21.1582  | 83.7627  | 104.921  | 67.7062  | 25.4972  | 10.5932  | 35.6667  | 65.7006 | 215.441\n",
       "3     | 247.436 |             |          | 26.1026  |         | 56.5641 | 43.7821 | 1686.96 | 369.808 | 805.462  | 66.2564 | 184.397  | 303.551 | 621.064  | 204.654 | 251.782  | 70.8718  | 247.013  | 317.885  | 204.346  | 56.9615  | 36.2949  | 124.128  | 121.154 | 1010.53"
      ]
     },
     "execution_count": 54,
     "metadata": {},
     "output_type": "execute_result"
    }
   ],
   "source": [
    "out.group('label', np.mean)"
   ]
  },
  {
   "cell_type": "markdown",
   "metadata": {},
   "source": [
    "Plot histograms/scatterplots for labels to assess the clusters"
   ]
  },
  {
   "cell_type": "code",
   "execution_count": 55,
   "metadata": {},
   "outputs": [
    {
     "data": {
      "text/plain": [
       "array([1, 3, 1, 0, 1, 1, 3, 2, 1, 1, 0, 1, 2, 2, 2, 2, 2, 2, 2, 3, 1, 3,\n",
       "       3, 2, 2, 2, 0, 1, 0, 2, 0, 2, 0, 1, 0, 0, 3, 0, 0, 0, 1, 0, 2, 1,\n",
       "       0, 3, 3, 0, 1, 2, 1, 2, 1, 1, 2, 3, 0, 1, 2, 0, 1, 3, 0, 1, 0, 0,\n",
       "       2, 0, 0, 3, 2, 2, 2, 2, 0, 3, 0, 3, 2, 2, 2, 0, 0, 1, 0, 0, 0, 0,\n",
       "       1, 0, 2, 0, 1, 3, 0, 3, 0, 0, 0, 2, 0, 2, 2, 2, 2, 3, 3, 0, 0, 0,\n",
       "       0, 2, 2, 2, 2, 0, 3, 0, 3, 1, 2, 1, 2, 2, 2, 0, 3, 0, 1, 0, 0, 0,\n",
       "       1, 2, 2, 1, 2, 3, 2, 0, 0, 0, 0, 2, 0, 0, 2, 2, 0, 1, 1, 0, 3, 1,\n",
       "       0, 0, 2, 2, 2, 0, 2, 0, 0, 2, 3, 2, 2, 0, 3, 2, 2, 3, 3, 3, 2, 3,\n",
       "       1, 0, 1, 1, 0, 1, 0, 1, 0, 0, 0, 2, 1, 2, 2, 0, 0, 1, 0, 0, 0, 3,\n",
       "       2, 2, 2, 0, 0, 1, 0, 3, 2, 2, 1, 0, 0, 2, 0, 0, 0, 2, 1, 2, 2, 3,\n",
       "       0, 1, 2, 2, 1, 1, 1, 1, 0, 1, 2, 0, 2, 2, 2, 3, 2, 2, 0, 2, 2, 2,\n",
       "       1, 1, 0, 0, 1, 2, 2, 1, 0, 1, 1, 2, 1, 2, 0, 0, 1, 2, 2, 3, 0, 3,\n",
       "       3, 3, 1, 2, 0, 0, 0, 0, 0, 0, 2, 1, 2, 2, 0, 0, 0, 2, 0, 2, 0, 0,\n",
       "       2, 1, 0, 0, 0, 2, 1, 0, 1, 0, 3, 2, 1, 1, 1, 0, 2, 3, 3, 2, 1, 0,\n",
       "       3, 2, 1, 0, 2, 2, 2, 2, 2, 2, 1, 1, 1, 1, 3, 0, 1, 3, 0, 2, 1, 3,\n",
       "       1, 0, 0, 0, 0, 3, 0, 1, 2, 1, 2, 1, 0, 0, 0, 0, 2, 2, 1, 2, 2, 0,\n",
       "       3, 2, 2, 0, 0, 1, 1, 0, 0, 0, 3, 2, 0, 1, 1, 0, 0, 2, 2, 2, 2, 0,\n",
       "       2, 3, 0, 1, 3, 0, 0, 2, 0, 3, 3, 0, 0, 0, 1, 0, 3, 0, 1, 1, 0, 0,\n",
       "       2, 2, 0, 1, 1, 2, 0, 0, 2, 3, 3, 2, 2, 1, 3, 0, 0, 0, 1, 2, 0, 0,\n",
       "       0, 2, 2, 3, 1, 0, 0, 1, 2, 2, 1, 1, 1, 0, 1, 3, 1, 0, 2, 0, 2, 2,\n",
       "       2, 2, 1, 3, 0, 1, 2, 0, 2, 0, 0, 0, 0, 2, 1, 0, 3, 0, 2, 2, 2, 2,\n",
       "       0, 1, 2, 1, 2, 3, 0, 0, 2, 1, 0, 2, 0, 1, 2, 2, 0, 2, 0, 0, 3, 0,\n",
       "       3, 0, 1, 0, 0, 2, 3, 1, 2, 0, 2, 3, 1, 2, 1, 1, 2, 3, 1, 0, 1, 1,\n",
       "       3, 0, 2, 2, 3, 0, 2, 1, 1, 1, 3, 1, 0, 0, 0, 2, 2, 3, 2, 0, 1, 2,\n",
       "       0, 2, 1, 1, 1, 1, 2, 2, 0, 2, 3, 2, 3, 0, 3, 3, 0, 2, 2, 2, 3, 2,\n",
       "       2, 2, 1, 3, 1, 1, 3, 0, 1, 0, 3, 2, 0, 0, 0, 2, 1, 1, 2, 1, 0, 3,\n",
       "       2, 0, 0, 1, 1, 3], dtype=int32)"
      ]
     },
     "execution_count": 55,
     "metadata": {},
     "output_type": "execute_result"
    }
   ],
   "source": [
    "labels"
   ]
  },
  {
   "cell_type": "code",
   "execution_count": 56,
   "metadata": {},
   "outputs": [
    {
     "data": {
      "image/png": "[encoded data removed]",
      "text/plain": [
       "<matplotlib.figure.Figure at 0x7f145d619fd0>"
      ]
     },
     "metadata": {
      "needs_background": "light"
     },
     "output_type": "display_data"
    }
   ],
   "source": [
    "(\n",
    "    features\n",
    "    .with_column('label', labels)\n",
    "    .where('FTA', are.below(0.4))  # filter out james harden\n",
    "    .scatter('FTA', 'DRB', colors='label')\n",
    ")"
   ]
  },
  {
   "cell_type": "code",
   "execution_count": 57,
   "metadata": {},
   "outputs": [
    {
     "data": {
      "image/png": "[encoded data removed]",
      "text/plain": [
       "<matplotlib.figure.Figure at 0x7f145d08af98>"
      ]
     },
     "metadata": {
      "needs_background": "light"
     },
     "output_type": "display_data"
    }
   ],
   "source": [
    "out.hist('3P', group='label')"
   ]
  },
  {
   "cell_type": "markdown",
   "metadata": {},
   "source": [
    "Try normalizing"
   ]
  },
  {
   "cell_type": "code",
   "execution_count": 59,
   "metadata": {},
   "outputs": [
    {
     "data": {
      "text/plain": [
       "array([[0.13584475, 0.24429224, 0.0216895 , ..., 0.03082192, 0.11757991,\n",
       "        0.35045662],\n",
       "       [0.13333333, 0.4       , 0.        , ..., 0.13333333, 0.13333333,\n",
       "        0.46666667],\n",
       "       [0.12959285, 0.21151936, 0.        , ..., 0.04170804, 0.11072493,\n",
       "        0.31578947],\n",
       "       ...,\n",
       "       [0.20565019, 0.40008309, 0.00290818, ..., 0.05650187, 0.0756128 ,\n",
       "        0.45783133],\n",
       "       [0.13021421, 0.24633596, 0.0005637 , ..., 0.03833145, 0.11499436,\n",
       "        0.35963923],\n",
       "       [0.1943662 , 0.4084507 , 0.        , ..., 0.06478873, 0.13661972,\n",
       "        0.51267606]])"
      ]
     },
     "execution_count": 59,
     "metadata": {},
     "output_type": "execute_result"
    }
   ],
   "source": [
    "features.values"
   ]
  },
  {
   "cell_type": "code",
   "execution_count": 60,
   "metadata": {},
   "outputs": [
    {
     "data": {
      "text/plain": [
       "array([[-0.14805292, -0.8462623 , -0.33672078, ..., -0.91621721,\n",
       "         0.62662365, -0.24266024],\n",
       "       [-0.19715983,  0.79164849, -1.03613183, ...,  2.89365805,\n",
       "         1.03055697,  0.60408831],\n",
       "       [-0.27029929, -1.19100453, -1.03613183, ..., -0.51163025,\n",
       "         0.45085514, -0.49525765],\n",
       "       ...,\n",
       "       [ 1.2168862 ,  0.79252254, -0.94235297, ...,  0.03818784,\n",
       "        -0.44945442,  0.53971081],\n",
       "       [-0.25814963, -0.82476406, -1.01795453, ..., -0.63712247,\n",
       "         0.56032772, -0.17575239],\n",
       "       [ 0.99624495,  0.88054258, -1.03613183, ...,  0.34617221,\n",
       "         1.11482311,  0.93932941]])"
      ]
     },
     "execution_count": 60,
     "metadata": {},
     "output_type": "execute_result"
    }
   ],
   "source": [
    "ss = StandardScaler()\n",
    "ssfeatures = ss.fit_transform(features.values)\n",
    "ssfeatures"
   ]
  },
  {
   "cell_type": "code",
   "execution_count": 61,
   "metadata": {},
   "outputs": [
    {
     "data": {
      "image/png": "[encoded data removed]",
      "text/plain": [
       "<matplotlib.figure.Figure at 0x7f145cfe1d30>"
      ]
     },
     "metadata": {
      "needs_background": "light"
     },
     "output_type": "display_data"
    }
   ],
   "source": [
    "scores = cluster_scores(ssfeatures)\n",
    "plt.plot(np.arange(1, 10), scores);"
   ]
  },
  {
   "cell_type": "code",
   "execution_count": null,
   "metadata": {},
   "outputs": [],
   "source": [
    "n_clusters = 3\n",
    "\n",
    "train = ssfeatures\n",
    "\n",
    "kmeans = KMeans(n_clusters=n_clusters)\n",
    "labels = kmeans.fit_predict(train)\n",
    "out = nba.with_column('label', labels)"
   ]
  },
  {
   "cell_type": "markdown",
   "metadata": {},
   "source": [
    "Getting better:\n",
    "   * Centers are isolated to one cluster (along with most Power Forwards)\n",
    "   * Small forwards and guards are split between the other two"
   ]
  },
  {
   "cell_type": "code",
   "execution_count": null,
   "metadata": {},
   "outputs": [],
   "source": [
    "out.group(['Pos', 'label']).pivot('Pos', 'label', 'count', sum).show()"
   ]
  },
  {
   "cell_type": "markdown",
   "metadata": {},
   "source": [
    "What differentiates the other two?\n",
    "* Plot histograms and scatter-plots!\n",
    "* Look at who the outliers are.\n",
    "    - which players are assigned clusters that don't match their positions?\n",
    "    - An example may be Lebron James has stats that look like both a Forward and a Guard."
   ]
  },
  {
   "cell_type": "code",
   "execution_count": null,
   "metadata": {},
   "outputs": [],
   "source": [
    "out.group('label', np.mean)"
   ]
  },
  {
   "cell_type": "code",
   "execution_count": null,
   "metadata": {},
   "outputs": [],
   "source": [
    "# Code"
   ]
  },
  {
   "cell_type": "code",
   "execution_count": null,
   "metadata": {},
   "outputs": [],
   "source": [
    "# Code"
   ]
  },
  {
   "cell_type": "markdown",
   "metadata": {},
   "source": [
    "### Next steps:\n",
    "* Remove extraneous columns\n",
    "* Add columns for efficiency (e.g. FG/FGA)\n",
    "* Add assist-turnover ratio (i.e. AST/TOV)\n",
    "* Forget trying to capture positions:\n",
    "    - Use only certain subsets and see what type of clusters you get!"
   ]
  },
  {
   "cell_type": "code",
   "execution_count": null,
   "metadata": {},
   "outputs": [],
   "source": [
    "# Code"
   ]
  },
  {
   "cell_type": "code",
   "execution_count": null,
   "metadata": {},
   "outputs": [],
   "source": [
    "# Code"
   ]
  },
  {
   "cell_type": "markdown",
   "metadata": {},
   "source": [
    "# TSNE\n",
    "\n",
    "Another clustering algorithm is called \"t-distributed stochastic neighbor embedding\", or TSNE for short. It attempts to embed high-dimensional datasets into low dimensions, while preserving regions of high-density.\n",
    "\n",
    "See a nice explanation here: https://distill.pub/2016/misread-tsne/"
   ]
  },
  {
   "cell_type": "code",
   "execution_count": null,
   "metadata": {},
   "outputs": [],
   "source": [
    "from sklearn.manifold import TSNE"
   ]
  },
  {
   "cell_type": "code",
   "execution_count": null,
   "metadata": {},
   "outputs": [],
   "source": [
    "tsne = TSNE(n_components=2) # embeds in the plane -- 2 dimensions\n",
    "tsne_out = tsne.fit_transform(ssfeatures)"
   ]
  },
  {
   "cell_type": "code",
   "execution_count": null,
   "metadata": {},
   "outputs": [],
   "source": [
    "(\n",
    "    Table(['1', '2'])\n",
    "    .with_rows(out)\n",
    "    .with_columns('label', labels)\n",
    "    .scatter('1', '2', colors='label')\n",
    ")"
   ]
  },
  {
   "cell_type": "code",
   "execution_count": null,
   "metadata": {},
   "outputs": [],
   "source": [
    "# Code"
   ]
  },
  {
   "cell_type": "markdown",
   "metadata": {},
   "source": [
    "# Extra: clustering SDPD data\n",
    "\n",
    "A cleaned version of the SDPD data is found at `data/sdpd_clean.csv`. Try clustering these and understanding the clusters.\n",
    "\n",
    "As clustering algorithms require only numeric input, categorical data has been cleaned in a standard way. Yes/No fields have been changed to 1/0. \n",
    "\n",
    "The ethnicities are encoded with integers according to the following map:\n",
    "\n",
    "```\n",
    " 'W': 0,\n",
    " 'H': 1,\n",
    " 'B': 2,\n",
    " 'O': 3,\n",
    " 'A': 4,\n",
    " 'F': 5,\n",
    " 'V': 6,\n",
    " 'C': 7,\n",
    " 'I': 8,\n",
    " 'X': 9,\n",
    " 'K': 10,\n",
    " NAN: 11,\n",
    " 'P': 12,\n",
    " 'J': 13,\n",
    " 'Z': 14,\n",
    " 'L': 15,\n",
    " 'D': 16,\n",
    " 'S': 17,\n",
    " 'G': 18,\n",
    " 'U': 19\n",
    "```\n",
    "\n",
    "What are the implications of such a transformation of features? (hint: think about the distance function).\n",
    "\n",
    "Have fun!"
   ]
  },
  {
   "cell_type": "code",
   "execution_count": null,
   "metadata": {},
   "outputs": [],
   "source": [
    "# Code"
   ]
  }
 ],
 "metadata": {
  "kernelspec": {
   "display_name": "Python 3",
   "language": "python",
   "name": "python3"
  },
  "language_info": {
   "codemirror_mode": {
    "name": "ipython",
    "version": 3
   },
   "file_extension": ".py",
   "mimetype": "text/x-python",
   "name": "python",
   "nbconvert_exporter": "python",
   "pygments_lexer": "ipython3",
   "version": "3.6.1"
  }
 },
 "nbformat": 4,
 "nbformat_minor": 2
}

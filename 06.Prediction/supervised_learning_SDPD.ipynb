{
 "cells": [
  {
   "cell_type": "markdown",
   "metadata": {},
   "source": [
    "# Prediction and Supervised Learning: SDPD\n",
    "\n",
    "Today, we'll make predictions on the San Diego Police Dept traffic stops dataset, paying attention to which attributes contribute most to our model.\n",
    "\n",
    "Among the questions we'll ask, are\n",
    "* Can you predict the age/gender/ethnicity based on other factors? (which are regression? classification?)\n",
    "* Can you predict who will be search or arrested, based on attributes of the stopped driver?"
   ]
  },
  {
   "cell_type": "code",
   "execution_count": 3,
   "metadata": {},
   "outputs": [],
   "source": [
    "%matplotlib inline\n",
    "\n",
    "import matplotlib.pyplot as plt\n",
    "import seaborn as sns; sns.set()  # for plot styling\n",
    "import numpy as np\n",
    "from datascience import *"
   ]
  },
  {
   "cell_type": "markdown",
   "metadata": {},
   "source": [
    "### Clean the SDPD \n",
    "\n",
    "As machine learning algorithms usually require numeric input, the cell below cleaned the SDPD data in a standard way.\n",
    "* Yes/No fields have been changed to 1/0.\n",
    "* Fields not conforming to a the expected values were given the value -1.\n",
    "    - you will likely want to filter out rows with -1 values before doing predictions!\n",
    "* The ethnicities are encoded with integers using `race_dict`"
   ]
  },
  {
   "cell_type": "code",
   "execution_count": 27,
   "metadata": {},
   "outputs": [],
   "source": [
    "import pandas as pd\n",
    "sdraw = pd.read_csv('../01.Traffic_Stops/1.messy_data/data/vehicle_stops_2016_datasd.csv')\n",
    "\n",
    "# convert string date to date-time object\n",
    "sdraw['timestamp'] = pd.to_datetime(sdraw.timestamp)\n",
    "\n",
    "cleaned = pd.DataFrame()\n",
    "cleaned['stop_id'] = sdraw['stop_id']\n",
    "\n",
    "# clean stop_cause\n",
    "cleaned['is_moving_violation'] = sdraw.stop_cause.apply(lambda x:float(x == 'Moving Violation'))\n",
    "cleaned['is_equipment_violation'] = sdraw.stop_cause.apply(lambda x:float(x == 'Equipment Violation'))\n",
    "\n",
    "# service area: all non digits to -1, else same\n",
    "cleaned['service_area'] = sdraw.service_area.apply(lambda x:x if x.isdigit() else -1)\n",
    "\n",
    "# race: translate race codes to integers, given in race_dict\n",
    "race_dict = dict(zip(sdraw.subject_race.unique(), range(1000)))\n",
    "cleaned['subject_race'] = sdraw.subject_race.apply(lambda x: race_dict.get(x))\n",
    "\n",
    "# sex: M=>1, F=>0, Else -1\n",
    "def sex(s):\n",
    "    if pd.isnull(s):\n",
    "        return -1\n",
    "    if s.lower() == 'm':\n",
    "        return 1\n",
    "    elif s.lower() == 'f':\n",
    "        return 0\n",
    "    else:\n",
    "        return -1\n",
    "\n",
    "cleaned['subject_sex'] = sdraw.subject_sex.apply(sex)\n",
    "\n",
    "# Age: if not number, or > 100, then -1. Else make a float\n",
    "def age(s):\n",
    "    if pd.isnull(s):\n",
    "        return -1\n",
    "    if not s.isdigit():\n",
    "        return -1\n",
    "    if float(s) > 100:\n",
    "        return -1\n",
    "    else:\n",
    "        return float(s)\n",
    "    \n",
    "cleaned['subject_age'] = sdraw.subject_age.apply(age)\n",
    "\n",
    "# Datetime columns, using datetime methods\n",
    "cleaned['hour'] = sdraw.timestamp.apply(lambda x:x.hour)\n",
    "cleaned['day_of_week'] = sdraw.timestamp.apply(lambda x:x.dayofweek)\n",
    "cleaned['day_of_month'] = sdraw.timestamp.apply(lambda x:x.day)\n",
    "cleaned['month'] = sdraw.timestamp.apply(lambda x:x.month)\n",
    "\n",
    "# SD resident / searched / arrested\n",
    "\n",
    "def yes_no(s):\n",
    "    if pd.isnull(s):\n",
    "        return -1\n",
    "    if s.lower() == 'y':\n",
    "        return 1\n",
    "    elif s.lower() == 'n':\n",
    "        return 0\n",
    "    else:\n",
    "        return -1\n",
    "    \n",
    "cleaned['sd_resident'] = sdraw.sd_resident.apply(yes_no)\n",
    "cleaned['arrested'] = sdraw.arrested.apply(yes_no)\n",
    "cleaned['searched'] = sdraw.searched.apply(yes_no)\n",
    "\n",
    "cleaned = cleaned.dropna() # drops any row without a timestamp"
   ]
  },
  {
   "cell_type": "code",
   "execution_count": 28,
   "metadata": {},
   "outputs": [],
   "source": [
    "sdpd = Table.from_df(cleaned)"
   ]
  },
  {
   "cell_type": "code",
   "execution_count": 29,
   "metadata": {
    "scrolled": true
   },
   "outputs": [
    {
     "data": {
      "text/html": [
       "<table border=\"1\" class=\"dataframe\">\n",
       "    <thead>\n",
       "        <tr>\n",
       "            <th>stop_id</th> <th>is_moving_violation</th> <th>is_equipment_violation</th> <th>service_area</th> <th>subject_race</th> <th>subject_sex</th> <th>subject_age</th> <th>hour</th> <th>day_of_week</th> <th>day_of_month</th> <th>month</th> <th>sd_resident</th> <th>arrested</th> <th>searched</th>\n",
       "        </tr>\n",
       "    </thead>\n",
       "    <tbody>\n",
       "        <tr>\n",
       "            <td>1308198</td> <td>0                  </td> <td>1                     </td> <td>530         </td> <td>0           </td> <td>1          </td> <td>28         </td> <td>0   </td> <td>4          </td> <td>1           </td> <td>1    </td> <td>1          </td> <td>0       </td> <td>0       </td>\n",
       "        </tr>\n",
       "    </tbody>\n",
       "        <tr>\n",
       "            <td>1308172</td> <td>1                  </td> <td>0                     </td> <td>520         </td> <td>1           </td> <td>1          </td> <td>25         </td> <td>0   </td> <td>4          </td> <td>1           </td> <td>1    </td> <td>0          </td> <td>0       </td> <td>0       </td>\n",
       "        </tr>\n",
       "    </tbody>\n",
       "        <tr>\n",
       "            <td>1308171</td> <td>1                  </td> <td>0                     </td> <td>110         </td> <td>2           </td> <td>0          </td> <td>31         </td> <td>0   </td> <td>4          </td> <td>1           </td> <td>1    </td> <td>-1         </td> <td>-1      </td> <td>-1      </td>\n",
       "        </tr>\n",
       "    </tbody>\n",
       "        <tr>\n",
       "            <td>1308170</td> <td>1                  </td> <td>0                     </td> <td>-1          </td> <td>0           </td> <td>0          </td> <td>29         </td> <td>0   </td> <td>4          </td> <td>1           </td> <td>1    </td> <td>0          </td> <td>0       </td> <td>0       </td>\n",
       "        </tr>\n",
       "    </tbody>\n",
       "        <tr>\n",
       "            <td>1308197</td> <td>1                  </td> <td>0                     </td> <td>230         </td> <td>0           </td> <td>1          </td> <td>52         </td> <td>0   </td> <td>4          </td> <td>1           </td> <td>1    </td> <td>0          </td> <td>0       </td> <td>0       </td>\n",
       "        </tr>\n",
       "    </tbody>\n",
       "        <tr>\n",
       "            <td>1308200</td> <td>1                  </td> <td>0                     </td> <td>710         </td> <td>2           </td> <td>1          </td> <td>24         </td> <td>0   </td> <td>4          </td> <td>1           </td> <td>1    </td> <td>1          </td> <td>0       </td> <td>0       </td>\n",
       "        </tr>\n",
       "    </tbody>\n",
       "        <tr>\n",
       "            <td>1308174</td> <td>1                  </td> <td>0                     </td> <td>-1          </td> <td>3           </td> <td>1          </td> <td>20         </td> <td>0   </td> <td>4          </td> <td>1           </td> <td>1    </td> <td>1          </td> <td>0       </td> <td>0       </td>\n",
       "        </tr>\n",
       "    </tbody>\n",
       "        <tr>\n",
       "            <td>1308199</td> <td>1                  </td> <td>0                     </td> <td>440         </td> <td>2           </td> <td>1          </td> <td>50         </td> <td>0   </td> <td>4          </td> <td>1           </td> <td>1    </td> <td>1          </td> <td>0       </td> <td>0       </td>\n",
       "        </tr>\n",
       "    </tbody>\n",
       "        <tr>\n",
       "            <td>1308979</td> <td>1                  </td> <td>0                     </td> <td>310         </td> <td>2           </td> <td>0          </td> <td>25         </td> <td>1   </td> <td>4          </td> <td>1           </td> <td>1    </td> <td>1          </td> <td>0       </td> <td>1       </td>\n",
       "        </tr>\n",
       "    </tbody>\n",
       "        <tr>\n",
       "            <td>1308965</td> <td>1                  </td> <td>0                     </td> <td>240         </td> <td>0           </td> <td>0          </td> <td>23         </td> <td>1   </td> <td>4          </td> <td>1           </td> <td>1    </td> <td>1          </td> <td>0       </td> <td>0       </td>\n",
       "        </tr>\n",
       "    </tbody>\n",
       "</table>\n",
       "<p>... (102869 rows omitted)</p>"
      ],
      "text/plain": [
       "stop_id | is_moving_violation | is_equipment_violation | service_area | subject_race | subject_sex | subject_age | hour | day_of_week | day_of_month | month | sd_resident | arrested | searched\n",
       "1308198 | 0                   | 1                      | 530          | 0            | 1           | 28          | 0    | 4           | 1            | 1     | 1           | 0        | 0\n",
       "1308172 | 1                   | 0                      | 520          | 1            | 1           | 25          | 0    | 4           | 1            | 1     | 0           | 0        | 0\n",
       "1308171 | 1                   | 0                      | 110          | 2            | 0           | 31          | 0    | 4           | 1            | 1     | -1          | -1       | -1\n",
       "1308170 | 1                   | 0                      | -1           | 0            | 0           | 29          | 0    | 4           | 1            | 1     | 0           | 0        | 0\n",
       "1308197 | 1                   | 0                      | 230          | 0            | 1           | 52          | 0    | 4           | 1            | 1     | 0           | 0        | 0\n",
       "1308200 | 1                   | 0                      | 710          | 2            | 1           | 24          | 0    | 4           | 1            | 1     | 1           | 0        | 0\n",
       "1308174 | 1                   | 0                      | -1           | 3            | 1           | 20          | 0    | 4           | 1            | 1     | 1           | 0        | 0\n",
       "1308199 | 1                   | 0                      | 440          | 2            | 1           | 50          | 0    | 4           | 1            | 1     | 1           | 0        | 0\n",
       "1308979 | 1                   | 0                      | 310          | 2            | 0           | 25          | 1    | 4           | 1            | 1     | 1           | 0        | 1\n",
       "1308965 | 1                   | 0                      | 240          | 0            | 0           | 23          | 1    | 4           | 1            | 1     | 1           | 0        | 0\n",
       "... (102869 rows omitted)"
      ]
     },
     "execution_count": 29,
     "metadata": {},
     "output_type": "execute_result"
    }
   ],
   "source": [
    "sdpd"
   ]
  },
  {
   "cell_type": "markdown",
   "metadata": {},
   "source": [
    "### Is a given traffic stop for a moving violation?\n",
    "\n",
    "We will try to predict, given a traffic stop, was it a moving violation?"
   ]
  },
  {
   "cell_type": "code",
   "execution_count": 7,
   "metadata": {},
   "outputs": [],
   "source": [
    "from sklearn.model_selection import train_test_split"
   ]
  },
  {
   "cell_type": "code",
   "execution_count": 8,
   "metadata": {},
   "outputs": [],
   "source": [
    "# X=attributes for training; y=labels\n",
    "\n",
    "# is_moving/equipment_violation are the labels, so we need to take them out!\n",
    "train_table = sdpd.drop('stop_id', 'is_moving_violation', 'is_equipment_violation')\n",
    "X = train_table.values\n",
    "y = sdpd.column('is_moving_violation')\n",
    "\n",
    "X_train, X_test, y_train, y_test = train_test_split(X, y, test_size=0.33, random_state=42)"
   ]
  },
  {
   "cell_type": "code",
   "execution_count": 9,
   "metadata": {},
   "outputs": [],
   "source": [
    "from sklearn.ensemble import RandomForestClassifier \n",
    "rfc = RandomForestClassifier()"
   ]
  },
  {
   "cell_type": "code",
   "execution_count": 10,
   "metadata": {},
   "outputs": [
    {
     "name": "stderr",
     "output_type": "stream",
     "text": [
      "/opt/conda/lib/python3.6/site-packages/sklearn/ensemble/forest.py:248: FutureWarning: The default value of n_estimators will change from 10 in version 0.20 to 100 in 0.22.\n",
      "  \"10 in version 0.20 to 100 in 0.22.\", FutureWarning)\n"
     ]
    },
    {
     "data": {
      "text/plain": [
       "RandomForestClassifier(bootstrap=True, class_weight=None, criterion='gini',\n",
       "            max_depth=None, max_features='auto', max_leaf_nodes=None,\n",
       "            min_impurity_decrease=0.0, min_impurity_split=None,\n",
       "            min_samples_leaf=1, min_samples_split=2,\n",
       "            min_weight_fraction_leaf=0.0, n_estimators=10, n_jobs=None,\n",
       "            oob_score=False, random_state=None, verbose=0,\n",
       "            warm_start=False)"
      ]
     },
     "execution_count": 10,
     "metadata": {},
     "output_type": "execute_result"
    }
   ],
   "source": [
    "rfc.fit(X_train, y_train)"
   ]
  },
  {
   "cell_type": "markdown",
   "metadata": {},
   "source": [
    "### Check the models accuracy:\n",
    "* Is this accuracy even any good?\n",
    "* What are the models \"False positives\"\n",
    "    - the model guessed moving violation, when it wasn't\n",
    "* What are the models \"False negatives\"\n",
    "    - the model guess it wasn't a moving violation, when it was\n",
    "* What are the properties of examples the model thought were moving violations?   "
   ]
  },
  {
   "cell_type": "code",
   "execution_count": 44,
   "metadata": {},
   "outputs": [
    {
     "data": {
      "text/html": [
       "<table border=\"1\" class=\"dataframe\">\n",
       "    <thead>\n",
       "        <tr>\n",
       "            <th>stop_id</th> <th>is_moving_violation</th> <th>is_equipment_violation</th> <th>service_area</th> <th>subject_race</th> <th>subject_sex</th> <th>subject_age</th> <th>hour</th> <th>day_of_week</th> <th>day_of_month</th> <th>month</th> <th>sd_resident</th> <th>arrested</th> <th>searched</th> <th>prediction</th> <th>scores</th>\n",
       "        </tr>\n",
       "    </thead>\n",
       "    <tbody>\n",
       "        <tr>\n",
       "            <td>1308198</td> <td>0                  </td> <td>1                     </td> <td>530         </td> <td>0           </td> <td>1          </td> <td>28         </td> <td>0   </td> <td>4          </td> <td>1           </td> <td>1    </td> <td>1          </td> <td>0       </td> <td>0       </td> <td>0         </td> <td>0.4   </td>\n",
       "        </tr>\n",
       "    </tbody>\n",
       "        <tr>\n",
       "            <td>1308172</td> <td>1                  </td> <td>0                     </td> <td>520         </td> <td>1           </td> <td>1          </td> <td>25         </td> <td>0   </td> <td>4          </td> <td>1           </td> <td>1    </td> <td>0          </td> <td>0       </td> <td>0       </td> <td>1         </td> <td>1     </td>\n",
       "        </tr>\n",
       "    </tbody>\n",
       "        <tr>\n",
       "            <td>1308171</td> <td>1                  </td> <td>0                     </td> <td>110         </td> <td>2           </td> <td>0          </td> <td>31         </td> <td>0   </td> <td>4          </td> <td>1           </td> <td>1    </td> <td>-1         </td> <td>-1      </td> <td>-1      </td> <td>1         </td> <td>1     </td>\n",
       "        </tr>\n",
       "    </tbody>\n",
       "        <tr>\n",
       "            <td>1308170</td> <td>1                  </td> <td>0                     </td> <td>-1          </td> <td>0           </td> <td>0          </td> <td>29         </td> <td>0   </td> <td>4          </td> <td>1           </td> <td>1    </td> <td>0          </td> <td>0       </td> <td>0       </td> <td>1         </td> <td>0.8   </td>\n",
       "        </tr>\n",
       "    </tbody>\n",
       "        <tr>\n",
       "            <td>1308197</td> <td>1                  </td> <td>0                     </td> <td>230         </td> <td>0           </td> <td>1          </td> <td>52         </td> <td>0   </td> <td>4          </td> <td>1           </td> <td>1    </td> <td>0          </td> <td>0       </td> <td>0       </td> <td>1         </td> <td>1     </td>\n",
       "        </tr>\n",
       "    </tbody>\n",
       "        <tr>\n",
       "            <td>1308200</td> <td>1                  </td> <td>0                     </td> <td>710         </td> <td>2           </td> <td>1          </td> <td>24         </td> <td>0   </td> <td>4          </td> <td>1           </td> <td>1    </td> <td>1          </td> <td>0       </td> <td>0       </td> <td>1         </td> <td>0.8   </td>\n",
       "        </tr>\n",
       "    </tbody>\n",
       "        <tr>\n",
       "            <td>1308174</td> <td>1                  </td> <td>0                     </td> <td>-1          </td> <td>3           </td> <td>1          </td> <td>20         </td> <td>0   </td> <td>4          </td> <td>1           </td> <td>1    </td> <td>1          </td> <td>0       </td> <td>0       </td> <td>1         </td> <td>0.9   </td>\n",
       "        </tr>\n",
       "    </tbody>\n",
       "        <tr>\n",
       "            <td>1308199</td> <td>1                  </td> <td>0                     </td> <td>440         </td> <td>2           </td> <td>1          </td> <td>50         </td> <td>0   </td> <td>4          </td> <td>1           </td> <td>1    </td> <td>1          </td> <td>0       </td> <td>0       </td> <td>1         </td> <td>0.8   </td>\n",
       "        </tr>\n",
       "    </tbody>\n",
       "        <tr>\n",
       "            <td>1308979</td> <td>1                  </td> <td>0                     </td> <td>310         </td> <td>2           </td> <td>0          </td> <td>25         </td> <td>1   </td> <td>4          </td> <td>1           </td> <td>1    </td> <td>1          </td> <td>0       </td> <td>1       </td> <td>1         </td> <td>0.9   </td>\n",
       "        </tr>\n",
       "    </tbody>\n",
       "        <tr>\n",
       "            <td>1308965</td> <td>1                  </td> <td>0                     </td> <td>240         </td> <td>0           </td> <td>0          </td> <td>23         </td> <td>1   </td> <td>4          </td> <td>1           </td> <td>1    </td> <td>1          </td> <td>0       </td> <td>0       </td> <td>1         </td> <td>0.9   </td>\n",
       "        </tr>\n",
       "    </tbody>\n",
       "</table>\n",
       "<p>... (102869 rows omitted)</p>"
      ],
      "text/plain": [
       "stop_id | is_moving_violation | is_equipment_violation | service_area | subject_race | subject_sex | subject_age | hour | day_of_week | day_of_month | month | sd_resident | arrested | searched | prediction | scores\n",
       "1308198 | 0                   | 1                      | 530          | 0            | 1           | 28          | 0    | 4           | 1            | 1     | 1           | 0        | 0        | 0          | 0.4\n",
       "1308172 | 1                   | 0                      | 520          | 1            | 1           | 25          | 0    | 4           | 1            | 1     | 0           | 0        | 0        | 1          | 1\n",
       "1308171 | 1                   | 0                      | 110          | 2            | 0           | 31          | 0    | 4           | 1            | 1     | -1          | -1       | -1       | 1          | 1\n",
       "1308170 | 1                   | 0                      | -1           | 0            | 0           | 29          | 0    | 4           | 1            | 1     | 0           | 0        | 0        | 1          | 0.8\n",
       "1308197 | 1                   | 0                      | 230          | 0            | 1           | 52          | 0    | 4           | 1            | 1     | 0           | 0        | 0        | 1          | 1\n",
       "1308200 | 1                   | 0                      | 710          | 2            | 1           | 24          | 0    | 4           | 1            | 1     | 1           | 0        | 0        | 1          | 0.8\n",
       "1308174 | 1                   | 0                      | -1           | 3            | 1           | 20          | 0    | 4           | 1            | 1     | 1           | 0        | 0        | 1          | 0.9\n",
       "1308199 | 1                   | 0                      | 440          | 2            | 1           | 50          | 0    | 4           | 1            | 1     | 1           | 0        | 0        | 1          | 0.8\n",
       "1308979 | 1                   | 0                      | 310          | 2            | 0           | 25          | 1    | 4           | 1            | 1     | 1           | 0        | 1        | 1          | 0.9\n",
       "1308965 | 1                   | 0                      | 240          | 0            | 0           | 23          | 1    | 4           | 1            | 1     | 1           | 0        | 0        | 1          | 0.9\n",
       "... (102869 rows omitted)"
      ]
     },
     "execution_count": 44,
     "metadata": {},
     "output_type": "execute_result"
    }
   ],
   "source": [
    "predict_sdpd"
   ]
  },
  {
   "cell_type": "code",
   "execution_count": 11,
   "metadata": {},
   "outputs": [
    {
     "data": {
      "text/plain": [
       "0.7277841595240199"
      ]
     },
     "execution_count": 11,
     "metadata": {},
     "output_type": "execute_result"
    }
   ],
   "source": [
    "# Accuracy of the model\n",
    "rfc.score(X_test, y_test)"
   ]
  },
  {
   "cell_type": "code",
   "execution_count": 36,
   "metadata": {},
   "outputs": [
    {
     "data": {
      "text/plain": [
       "array([ 0,  1,  2,  3,  4,  5,  6,  7,  8,  9, 10, 11, 12, 13, 14, 15, 16,\n",
       "       17, 18, 19])"
      ]
     },
     "execution_count": 36,
     "metadata": {},
     "output_type": "execute_result"
    }
   ],
   "source": [
    "# Code\n",
    "predict_sdpd = sdpd.with_columns(\n",
    "    'prediction', rfc.predict(X),\n",
    "    'scores', rfc.predict_proba(X)[:,1]\n",
    ")\n",
    "np.unique(predict_sdpd.column('subject_race'))"
   ]
  },
  {
   "cell_type": "code",
   "execution_count": 65,
   "metadata": {
    "scrolled": true
   },
   "outputs": [
    {
     "data": {
      "image/png": "[encoded data removed]",
      "text/plain": [
       "<matplotlib.figure.Figure at 0x7f5669214a58>"
      ]
     },
     "metadata": {},
     "output_type": "display_data"
    }
   ],
   "source": [
    "# Code\n",
    "age_mv = sdpd.where(\n",
    "    'subject_age', \n",
    "    are.above(15)\n",
    "    ).select('subject_age', 'is_moving_violation').group('subject_age', np.mean)\n",
    "age_mv.scatter('subject_age')"
   ]
  },
  {
   "cell_type": "code",
   "execution_count": 66,
   "metadata": {},
   "outputs": [],
   "source": [
    "def standard_units(xyz):\n",
    "    \"Convert any array of numbers to standard units.\"\n",
    "    return (xyz - np.mean(xyz))/np.std(xyz)  \n",
    "def correlation(t, label_x, label_y):\n",
    "    return np.mean(standard_units(t.column(label_x))*standard_units(t.column(label_y)))\n",
    "\n",
    "def slope(t, label_x, label_y):\n",
    "    r = correlation(t, label_x, label_y)\n",
    "    return r*np.std(t.column(label_y))/np.std(t.column(label_x))\n",
    "\n",
    "def intercept(t, label_x, label_y):\n",
    "    return np.mean(t.column(label_y)) - slope(t, label_x, label_y)*np.mean(t.column(label_x))"
   ]
  },
  {
   "cell_type": "code",
   "execution_count": 67,
   "metadata": {},
   "outputs": [
    {
     "data": {
      "text/plain": [
       "0.0019213950359815834"
      ]
     },
     "execution_count": 67,
     "metadata": {},
     "output_type": "execute_result"
    }
   ],
   "source": [
    "slope(age_mv, 'subject_age', 'is_moving_violation mean')"
   ]
  },
  {
   "cell_type": "code",
   "execution_count": null,
   "metadata": {},
   "outputs": [],
   "source": [
    "predict_sdpd.where('subject_race', are.between(0, 5)).select('subject_race', 'scores')"
   ]
  },
  {
   "cell_type": "markdown",
   "metadata": {},
   "source": [
    "### Feature importances\n",
    "In decision tree based models, you can look at the importance of each feature to the model\n",
    "\n",
    "* Which features are most important?\n",
    "* Which values of those features are associated with moving violations?"
   ]
  },
  {
   "cell_type": "code",
   "execution_count": 12,
   "metadata": {},
   "outputs": [
    {
     "name": "stdout",
     "output_type": "stream",
     "text": [
      "arrested \t\t\t 0.0\n",
      "day_of_month \t\t\t 0.169223781338929\n",
      "day_of_week \t\t\t 0.07563946829936631\n",
      "hour \t\t\t 0.1618590876591788\n",
      "month \t\t\t 0.11384710029087572\n",
      "sd_resident \t\t\t 0.0\n",
      "searched \t\t\t 0.0\n",
      "service_area \t\t\t 0.16939986885434827\n",
      "subject_age \t\t\t 0.2481120567405671\n",
      "subject_race \t\t\t 0.0619186368167348\n",
      "subject_sex \t\t\t 0.0\n"
     ]
    }
   ],
   "source": [
    "importances = rfc.feature_importances_\n",
    "for x,y in sorted(zip(train_table.labels, importances)):\n",
    "    print(x,'\\t\\t\\t', y)"
   ]
  },
  {
   "cell_type": "code",
   "execution_count": null,
   "metadata": {},
   "outputs": [],
   "source": [
    "# Code"
   ]
  },
  {
   "cell_type": "code",
   "execution_count": null,
   "metadata": {},
   "outputs": [],
   "source": [
    "# Code"
   ]
  },
  {
   "cell_type": "markdown",
   "metadata": {},
   "source": [
    "### Try other ML model types\n",
    "* `GradientBoostingClassifier` is a sequential decision tree model\n",
    "    - each subsequent tree improves upon the misclassifications of the previous tree.\n",
    "    - it has a `feature_importances_` attribute as well\n",
    "* `LogisticRegression` is a regression based classifier\n",
    "    - the importance of the features can be access through the attribute `coef_`."
   ]
  },
  {
   "cell_type": "code",
   "execution_count": 13,
   "metadata": {},
   "outputs": [],
   "source": [
    "from sklearn.neighbors import KNeighborsClassifier\n",
    "from sklearn.linear_model import LogisticRegression\n",
    "from sklearn.ensemble import GradientBoostingClassifier"
   ]
  },
  {
   "cell_type": "code",
   "execution_count": null,
   "metadata": {},
   "outputs": [],
   "source": [
    "\n"
   ]
  },
  {
   "cell_type": "markdown",
   "metadata": {},
   "source": [
    "## Next steps: \n",
    "\n",
    "Try other prediction problems, such as those listed at the top of the notebook. As always try to understand *why* the models are making the decisions that they are!"
   ]
  },
  {
   "cell_type": "code",
   "execution_count": null,
   "metadata": {},
   "outputs": [],
   "source": []
  }
 ],
 "metadata": {
  "kernelspec": {
   "display_name": "Python 3",
   "language": "python",
   "name": "python3"
  },
  "language_info": {
   "codemirror_mode": {
    "name": "ipython",
    "version": 3
   },
   "file_extension": ".py",
   "mimetype": "text/x-python",
   "name": "python",
   "nbconvert_exporter": "python",
   "pygments_lexer": "ipython3",
   "version": "3.6.1"
  }
 },
 "nbformat": 4,
 "nbformat_minor": 2
}
